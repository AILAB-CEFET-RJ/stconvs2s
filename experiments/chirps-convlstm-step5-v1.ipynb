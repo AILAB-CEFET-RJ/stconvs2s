{
 "cells": [
  {
   "cell_type": "code",
   "execution_count": 1,
   "metadata": {},
   "outputs": [],
   "source": [
    "import sys\n",
    "sys.path.append('..')\n",
    "import warnings\n",
    "warnings.filterwarnings('ignore')"
   ]
  },
  {
   "cell_type": "code",
   "execution_count": 2,
   "metadata": {},
   "outputs": [],
   "source": [
    "import os\n",
    "import numpy as np\n",
    "import xarray as xr\n",
    "import random as rd\n",
    "import platform\n",
    "%matplotlib inline\n",
    "\n",
    "from model.convlstm import ConvLSTM\n",
    "from tool.train_evaluate import Trainer, Evaluator\n",
    "from tool.dataset import NetCDFDataset\n",
    "from tool.utils import Util\n",
    "\n",
    "import torch\n",
    "import torch.nn as nn\n",
    "from torch.utils.data import Dataset, DataLoader\n",
    "from torch import optim"
   ]
  },
  {
   "cell_type": "markdown",
   "metadata": {},
   "source": [
    "Load specific variables for each dataset"
   ]
  },
  {
   "cell_type": "code",
   "execution_count": 3,
   "metadata": {},
   "outputs": [
    {
     "name": "stdout",
     "output_type": "stream",
     "text": [
      "version = 1\n",
      "dataset = ../data/dataset-chirps-1981-2019-seq5-ystep5.nc\n",
      "input_size = 50\n",
      "step = 5\n",
      "dropout rate = 0.8\n",
      "learning rate = 0.001\n",
      "upsample = False\n",
      "upsample mode = None\n",
      "param = {'layer_size': 2, 'kernel_size': 3, 'hidden_dim': 64}\n"
     ]
    }
   ],
   "source": [
    "%run dataset-variables.py"
   ]
  },
  {
   "cell_type": "code",
   "execution_count": 4,
   "metadata": {},
   "outputs": [
    {
     "data": {
      "text/plain": [
       "device(type='cuda', index=0)"
      ]
     },
     "execution_count": 4,
     "metadata": {},
     "output_type": "execute_result"
    }
   ],
   "source": [
    "util = Util('ConvLSTM', version=version, prefix=dataset)\n",
    "\n",
    "os.environ[\"CUDA_VISIBLE_DEVICES\"]='0'\n",
    "device = torch.device('cuda:0' if torch.cuda.is_available() else 'cpu')\n",
    "device"
   ]
  },
  {
   "cell_type": "markdown",
   "metadata": {},
   "source": [
    "Seed"
   ]
  },
  {
   "cell_type": "code",
   "execution_count": 5,
   "metadata": {},
   "outputs": [],
   "source": [
    "seed = 1000\n",
    "np.random.seed(seed)\n",
    "rd.seed(seed)\n",
    "torch.manual_seed(seed)\n",
    "torch.cuda.manual_seed(seed)\n",
    "torch.backends.cudnn.deterministic=True"
   ]
  },
  {
   "cell_type": "code",
   "execution_count": 6,
   "metadata": {},
   "outputs": [],
   "source": [
    "def init_seed(seed):\n",
    "    np.random.seed(seed)"
   ]
  },
  {
   "cell_type": "markdown",
   "metadata": {},
   "source": [
    "Hyperparameters"
   ]
  },
  {
   "cell_type": "code",
   "execution_count": 7,
   "metadata": {},
   "outputs": [],
   "source": [
    "epochs = 50\n",
    "batch_size = 50\n",
    "validation_split = 0.2\n",
    "test_split = 0.2\n",
    "layer_size = param['layer_size']\n",
    "kernel_size = param['kernel_size']\n",
    "hidden_dim = param['hidden_dim']"
   ]
  },
  {
   "cell_type": "markdown",
   "metadata": {},
   "source": [
    "Loading the dataset"
   ]
  },
  {
   "cell_type": "code",
   "execution_count": 8,
   "metadata": {},
   "outputs": [],
   "source": [
    "ds = xr.open_mfdataset(dataset_file)\n",
    "#ds = ds[dict(sample=slice(0,500))]"
   ]
  },
  {
   "cell_type": "code",
   "execution_count": 9,
   "metadata": {},
   "outputs": [],
   "source": [
    "train_dataset = NetCDFDataset(ds, test_split=test_split, validation_split=validation_split)\n",
    "val_dataset = NetCDFDataset(ds, test_split=test_split, validation_split=validation_split, is_validation=True)\n",
    "test_dataset = NetCDFDataset(ds, test_split=test_split, validation_split=validation_split, is_test=True)"
   ]
  },
  {
   "cell_type": "code",
   "execution_count": 10,
   "metadata": {},
   "outputs": [
    {
     "name": "stdout",
     "output_type": "stream",
     "text": [
      "[X_train] Shape: torch.Size([8376, 1, 5, 50, 50])\n",
      "[y_train] Shape: torch.Size([8376, 1, 5, 50, 50])\n",
      "[X_val] Shape: torch.Size([2792, 1, 5, 50, 50])\n",
      "[y_val] Shape: torch.Size([2792, 1, 5, 50, 50])\n",
      "[X_test] Shape: torch.Size([2792, 1, 5, 50, 50])\n",
      "[y_test] Shape: torch.Size([2792, 1, 5, 50, 50])\n"
     ]
    }
   ],
   "source": [
    "print('[X_train] Shape:', train_dataset.X.shape)\n",
    "print('[y_train] Shape:', train_dataset.y.shape)\n",
    "print('[X_val] Shape:', val_dataset.X.shape)\n",
    "print('[y_val] Shape:', val_dataset.y.shape)\n",
    "print('[X_test] Shape:', test_dataset.X.shape)\n",
    "print('[y_test] Shape:', test_dataset.y.shape)"
   ]
  },
  {
   "cell_type": "code",
   "execution_count": 11,
   "metadata": {},
   "outputs": [],
   "source": [
    "params = {'batch_size': batch_size,\n",
    "          'num_workers': 4, \n",
    "          'worker_init_fn': init_seed}\n",
    "\n",
    "train_loader = DataLoader(dataset=train_dataset, shuffle=True, **params)\n",
    "val_loader = DataLoader(dataset=val_dataset, shuffle=False, **params)\n",
    "test_loader = DataLoader(dataset=test_dataset, shuffle=False, **params)"
   ]
  },
  {
   "cell_type": "markdown",
   "metadata": {},
   "source": [
    "Creating the model"
   ]
  },
  {
   "cell_type": "code",
   "execution_count": 12,
   "metadata": {
    "pixiedust": {
     "displayParams": {}
    }
   },
   "outputs": [],
   "source": [
    "class STConvLSTM(nn.Module):\n",
    "    def __init__(self, input_size, layer_size, kernel_size, hidden_dim, dropout_rate):\n",
    "        \n",
    "        super(STConvLSTM, self).__init__()\n",
    "        self.dropout_rate = dropout_rate\n",
    "        self.convlstm_layers = nn.ModuleList()\n",
    "        self.relu_layers = nn.ModuleList()\n",
    "        self.batch_layers = nn.ModuleList()\n",
    "        self.dropout_layers = nn.ModuleList()\n",
    "        \n",
    "        input_dim = 1\n",
    "        for i in range(layer_size):\n",
    "            self.convlstm_layers.append(\n",
    "                ConvLSTM(input_size=(input_size,input_size), input_dim=input_dim, \n",
    "                        hidden_dim=hidden_dim, kernel_size=(kernel_size,kernel_size), num_layers=1, \n",
    "                        bias=False, return_all_layers=True, batch_first=True)\n",
    "            )\n",
    "            input_dim = hidden_dim\n",
    "            self.relu_layers.append(nn.ReLU())\n",
    "            self.batch_layers.append(nn.BatchNorm3d(num_features=hidden_dim))\n",
    "            self.dropout_layers.append(nn.Dropout(dropout_rate))\n",
    "        \n",
    "        self.conv_layer = nn.Conv3d(in_channels=hidden_dim, out_channels=1, \n",
    "                                    kernel_size=(1,1,1), padding=0)\n",
    "        \n",
    "    def learning_with_dropout(self, x):\n",
    "        for convlstm, relu, batch, drop in zip(self.convlstm_layers, self.relu_layers, \n",
    "                                           self.batch_layers, self.dropout_layers):\n",
    "            x, hidden = convlstm(x)\n",
    "            x = drop(relu(batch(x[0])))\n",
    "            \n",
    "        return x\n",
    "    \n",
    "    def learning_without_dropout(self, x):\n",
    "        for convlstm, relu, batch in zip(self.convlstm_layers, self.relu_layers, self.batch_layers):\n",
    "            x, hidden = convlstm(x)\n",
    "            x = relu(batch(x[0]))\n",
    "            \n",
    "        return x\n",
    "        \n",
    "    def forward(self, input_):\n",
    "        if self.dropout_rate > 0.:\n",
    "            output = self.learning_with_dropout(input_)\n",
    "        else:\n",
    "            output = self.learning_without_dropout(input_)\n",
    "        \n",
    "        return self.conv_layer(output)"
   ]
  },
  {
   "cell_type": "code",
   "execution_count": 13,
   "metadata": {},
   "outputs": [],
   "source": [
    "class RMSELoss(nn.Module):\n",
    "    def __init__(self, eps=1e-6):\n",
    "        super().__init__()\n",
    "        self.mse = nn.MSELoss()\n",
    "        self.eps = eps\n",
    "        \n",
    "    def forward(self,yhat,y):\n",
    "        loss = torch.sqrt(self.mse(yhat,y) + self.eps)\n",
    "        return loss"
   ]
  },
  {
   "cell_type": "code",
   "execution_count": 14,
   "metadata": {
    "pixiedust": {
     "displayParams": {}
    }
   },
   "outputs": [],
   "source": [
    "model = STConvLSTM(input_size, layer_size, kernel_size, hidden_dim, dropout_rate).to(device)\n",
    "\n",
    "criterion = RMSELoss()\n",
    "optimizer = torch.optim.RMSprop(model.parameters(), lr=lr, alpha=0.9, eps=1e-6)"
   ]
  },
  {
   "cell_type": "markdown",
   "metadata": {},
   "source": [
    "Training the model"
   ]
  },
  {
   "cell_type": "code",
   "execution_count": 15,
   "metadata": {
    "pixiedust": {
     "displayParams": {}
    }
   },
   "outputs": [
    {
     "name": "stdout",
     "output_type": "stream",
     "text": [
      "Train on 8376 samples, validate on 2792 samples\n",
      "Epoch: 1/50 - loss: 6.7283 - val_loss: 6.5256\n",
      "=> Saving a new best\n",
      "Epoch: 2/50 - loss: 6.5760 - val_loss: 6.5681\n",
      "Epoch: 3/50 - loss: 6.5621 - val_loss: 6.5035\n",
      "=> Saving a new best\n",
      "Epoch: 4/50 - loss: 6.5533 - val_loss: 6.4990\n",
      "=> Saving a new best\n",
      "Epoch: 5/50 - loss: 6.5453 - val_loss: 6.4985\n",
      "=> Saving a new best\n",
      "Epoch: 6/50 - loss: 6.5410 - val_loss: 6.5001\n",
      "Epoch: 7/50 - loss: 6.5376 - val_loss: 6.5070\n",
      "Epoch: 8/50 - loss: 6.5349 - val_loss: 6.4866\n",
      "=> Saving a new best\n",
      "Epoch: 9/50 - loss: 6.5329 - val_loss: 6.4859\n",
      "=> Saving a new best\n",
      "Epoch: 10/50 - loss: 6.5319 - val_loss: 6.4838\n",
      "=> Saving a new best\n",
      "Epoch: 11/50 - loss: 6.5303 - val_loss: 6.4824\n",
      "=> Saving a new best\n",
      "Epoch: 12/50 - loss: 6.5288 - val_loss: 6.4875\n",
      "Epoch: 13/50 - loss: 6.5260 - val_loss: 6.4777\n",
      "=> Saving a new best\n",
      "Epoch: 14/50 - loss: 6.5252 - val_loss: 6.4856\n",
      "Epoch: 15/50 - loss: 6.5239 - val_loss: 6.4758\n",
      "=> Saving a new best\n",
      "Epoch: 16/50 - loss: 6.5244 - val_loss: 6.5363\n",
      "Epoch: 17/50 - loss: 6.5217 - val_loss: 6.4812\n",
      "Epoch: 18/50 - loss: 6.5218 - val_loss: 6.4793\n",
      "Epoch: 19/50 - loss: 6.5198 - val_loss: 6.4822\n",
      "Epoch: 20/50 - loss: 6.5190 - val_loss: 6.4790\n",
      "Epoch: 21/50 - loss: 6.5195 - val_loss: 6.4760\n",
      "Epoch: 22/50 - loss: 6.5199 - val_loss: 6.4803\n",
      "Epoch: 23/50 - loss: 6.5183 - val_loss: 6.4811\n",
      "Epoch: 24/50 - loss: 6.5167 - val_loss: 6.4777\n",
      "Epoch: 25/50 - loss: 6.5172 - val_loss: 6.5093\n",
      "Epoch: 26/50 - loss: 6.5154 - val_loss: 6.4726\n",
      "=> Saving a new best\n",
      "Epoch: 27/50 - loss: 6.5158 - val_loss: 6.4815\n",
      "Epoch: 28/50 - loss: 6.5145 - val_loss: 6.4723\n",
      "=> Saving a new best\n",
      "Epoch: 29/50 - loss: 6.5146 - val_loss: 6.4840\n",
      "Epoch: 30/50 - loss: 6.5131 - val_loss: 6.4749\n",
      "Epoch: 31/50 - loss: 6.5114 - val_loss: 6.4751\n",
      "Epoch: 32/50 - loss: 6.5118 - val_loss: 6.5099\n",
      "Epoch: 33/50 - loss: 6.5111 - val_loss: 6.4766\n",
      "Epoch: 34/50 - loss: 6.5110 - val_loss: 6.4910\n",
      "Epoch: 35/50 - loss: 6.5099 - val_loss: 6.4765\n",
      "Epoch: 36/50 - loss: 6.5070 - val_loss: 6.5069\n",
      "Epoch: 37/50 - loss: 6.5073 - val_loss: 6.4875\n",
      "Epoch: 38/50 - loss: 6.5073 - val_loss: 6.4836\n",
      "Epoch: 39/50 - loss: 6.5068 - val_loss: 6.4779\n",
      "Epoch: 40/50 - loss: 6.5056 - val_loss: 6.4828\n",
      "Epoch: 41/50 - loss: 6.5041 - val_loss: 6.4879\n",
      "Epoch: 42/50 - loss: 6.5025 - val_loss: 6.5037\n",
      "Epoch: 43/50 - loss: 6.5024 - val_loss: 6.4960\n",
      "Epoch: 44/50 - loss: 6.5018 - val_loss: 6.4862\n",
      "Epoch: 45/50 - loss: 6.5004 - val_loss: 6.4779\n",
      "Epoch: 46/50 - loss: 6.4971 - val_loss: 6.4869\n",
      "Epoch: 47/50 - loss: 6.4976 - val_loss: 6.4871\n",
      "Epoch: 48/50 - loss: 6.4957 - val_loss: 6.4879\n",
      "Epoch: 49/50 - loss: 6.4970 - val_loss: 6.4871\n",
      "Epoch: 50/50 - loss: 6.4943 - val_loss: 6.5049\n",
      "CPU times: user 2h 44min 13s, sys: 18min 39s, total: 3h 2min 52s\n",
      "Wall time: 1h 11min 4s\n"
     ]
    }
   ],
   "source": [
    "%%time\n",
    "checkpoint_filename = util.get_checkpoint_filename()\n",
    "\n",
    "print('Train on {} samples, validate on {} samples'.format(len(train_dataset), len(val_dataset)))\n",
    "\n",
    "trainer = Trainer(model, criterion, optimizer, train_loader, val_loader, epochs, \n",
    "                          device, verbose=True, patience=None, no_stop=True)\n",
    "\n",
    "train_losses, val_losses = trainer.fit(checkpoint_filename)"
   ]
  },
  {
   "cell_type": "code",
   "execution_count": 16,
   "metadata": {},
   "outputs": [
    {
     "data": {
      "image/png": "[encoded data removed]",
      "text/plain": [
       "<Figure size 1080x576 with 1 Axes>"
      ]
     },
     "metadata": {
      "needs_background": "light"
     },
     "output_type": "display_data"
    }
   ],
   "source": [
    "util.save_loss(train_losses, val_losses)\n",
    "util.plot([train_losses, val_losses], ['Training', 'Validation'], \n",
    "          'Epochs', 'Error', 'Error analysis', inline=True)"
   ]
  },
  {
   "cell_type": "code",
   "execution_count": 17,
   "metadata": {},
   "outputs": [
    {
     "name": "stdout",
     "output_type": "stream",
     "text": [
      "=> Loaded checkpoint chirps_1_20191012-004442.pth.tar (best epoch: 28, validation error: 6.4723)\n"
     ]
    }
   ],
   "source": [
    "model,_, best_epoch, val_loss = trainer.load_checkpoint(checkpoint_filename)"
   ]
  },
  {
   "cell_type": "markdown",
   "metadata": {},
   "source": [
    "Evaluating the model"
   ]
  },
  {
   "cell_type": "code",
   "execution_count": 18,
   "metadata": {},
   "outputs": [
    {
     "name": "stdout",
     "output_type": "stream",
     "text": [
      "ConvLSTM RMSELoss: 6.4327\n"
     ]
    }
   ],
   "source": [
    "evaluator = Evaluator(model, criterion, test_loader, device)\n",
    "test_loss = evaluator.eval()\n",
    "loss_type = type(criterion).__name__\n",
    "print(f'ConvLSTM {loss_type}: {test_loss:.4f}')"
   ]
  },
  {
   "cell_type": "code",
   "execution_count": 19,
   "metadata": {},
   "outputs": [],
   "source": [
    "if (torch.cuda.is_available()):\n",
    "    torch.cuda.empty_cache()"
   ]
  },
  {
   "cell_type": "markdown",
   "metadata": {},
   "source": [
    "Notification via email"
   ]
  },
  {
   "cell_type": "code",
   "execution_count": 21,
   "metadata": {},
   "outputs": [],
   "source": [
    "model_info = {'Jupyter': 'yes',\n",
    "              'best_epoch': best_epoch,\n",
    "              'val_error': val_loss,\n",
    "              'test_error': test_loss,\n",
    "              'loss_type': loss_type,\n",
    "              'step': step,\n",
    "              'layer': layer_size,\n",
    "              'kernel_size': kernel_size,\n",
    "              'filter': hidden_dim,\n",
    "              'dropout_rate': dropout_rate,\n",
    "              'learning_rate': lr,\n",
    "              'dataset': dataset,\n",
    "              'hostname': platform.node()}"
   ]
  },
  {
   "cell_type": "code",
   "execution_count": 22,
   "metadata": {},
   "outputs": [
    {
     "name": "stdout",
     "output_type": "stream",
     "text": [
      "timestamp: 4276.87602853775\n",
      "email sent\n"
     ]
    }
   ],
   "source": [
    "util.send_email(model_info)"
   ]
  }
 ],
 "metadata": {
  "kernelspec": {
   "display_name": "pytorch",
   "language": "python",
   "name": "pytorch"
  },
  "language_info": {
   "codemirror_mode": {
    "name": "ipython",
    "version": 3
   },
   "file_extension": ".py",
   "mimetype": "text/x-python",
   "name": "python",
   "nbconvert_exporter": "python",
   "pygments_lexer": "ipython3",
   "version": "3.6.7"
  }
 },
 "nbformat": 4,
 "nbformat_minor": 2
}
