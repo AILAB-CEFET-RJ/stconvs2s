{
 "cells": [
  {
   "cell_type": "code",
   "execution_count": 1,
   "metadata": {},
   "outputs": [],
   "source": [
    "import sys\n",
    "sys.path.append('..')\n",
    "import warnings\n",
    "warnings.filterwarnings('ignore')"
   ]
  },
  {
   "cell_type": "code",
   "execution_count": 2,
   "metadata": {},
   "outputs": [],
   "source": [
    "import os\n",
    "import numpy as np\n",
    "import xarray as xr\n",
    "import random as rd\n",
    "import platform\n",
    "%matplotlib inline\n",
    "\n",
    "from model.convlstm import ConvLSTM\n",
    "from tool.train_evaluate import Trainer, Evaluator\n",
    "from tool.dataset import NetCDFDataset\n",
    "from tool.utils import Util\n",
    "\n",
    "import torch\n",
    "import torch.nn as nn\n",
    "from torch.utils.data import Dataset, DataLoader\n",
    "from torch import optim"
   ]
  },
  {
   "cell_type": "markdown",
   "metadata": {},
   "source": [
    "Load specific variables for each dataset"
   ]
  },
  {
   "cell_type": "code",
   "execution_count": 3,
   "metadata": {},
   "outputs": [
    {
     "name": "stdout",
     "output_type": "stream",
     "text": [
      "version = 1\n",
      "dataset = ../data/dataset-ucar-1979-2015-seq5-ystep5.nc\n",
      "input_size = 32\n",
      "step = 5\n",
      "dropout rate = 0.0\n",
      "learning rate = 0.001\n",
      "upsample = False\n",
      "upsample mode = None\n",
      "param = {'layer_size': 2, 'kernel_size': 3, 'hidden_dim': 64}\n"
     ]
    }
   ],
   "source": [
    "%run dataset-variables.py"
   ]
  },
  {
   "cell_type": "code",
   "execution_count": 4,
   "metadata": {},
   "outputs": [
    {
     "data": {
      "text/plain": [
       "device(type='cuda', index=0)"
      ]
     },
     "execution_count": 4,
     "metadata": {},
     "output_type": "execute_result"
    }
   ],
   "source": [
    "util = Util('ConvLSTM', version=version, prefix=dataset)\n",
    "\n",
    "os.environ[\"CUDA_VISIBLE_DEVICES\"]='0'\n",
    "device = torch.device('cuda:0' if torch.cuda.is_available() else 'cpu')\n",
    "device"
   ]
  },
  {
   "cell_type": "markdown",
   "metadata": {},
   "source": [
    "Seed"
   ]
  },
  {
   "cell_type": "code",
   "execution_count": 5,
   "metadata": {},
   "outputs": [],
   "source": [
    "seed = 1000\n",
    "np.random.seed(seed)\n",
    "rd.seed(seed)\n",
    "torch.manual_seed(seed)\n",
    "torch.cuda.manual_seed(seed)\n",
    "torch.backends.cudnn.deterministic=True"
   ]
  },
  {
   "cell_type": "code",
   "execution_count": 6,
   "metadata": {},
   "outputs": [],
   "source": [
    "def init_seed(seed):\n",
    "    np.random.seed(seed)"
   ]
  },
  {
   "cell_type": "markdown",
   "metadata": {},
   "source": [
    "Hyperparameters"
   ]
  },
  {
   "cell_type": "code",
   "execution_count": 7,
   "metadata": {},
   "outputs": [],
   "source": [
    "epochs = 50\n",
    "batch_size = 50\n",
    "validation_split = 0.2\n",
    "test_split = 0.2\n",
    "layer_size = param['layer_size']\n",
    "kernel_size = param['kernel_size']\n",
    "hidden_dim = param['hidden_dim']"
   ]
  },
  {
   "cell_type": "markdown",
   "metadata": {},
   "source": [
    "Loading the dataset"
   ]
  },
  {
   "cell_type": "code",
   "execution_count": 8,
   "metadata": {},
   "outputs": [],
   "source": [
    "ds = xr.open_mfdataset(dataset_file)\n",
    "#ds = ds[dict(sample=slice(0,500))]"
   ]
  },
  {
   "cell_type": "code",
   "execution_count": 9,
   "metadata": {},
   "outputs": [],
   "source": [
    "train_dataset = NetCDFDataset(ds, test_split=test_split, validation_split=validation_split)\n",
    "val_dataset = NetCDFDataset(ds, test_split=test_split, validation_split=validation_split, is_validation=True)\n",
    "test_dataset = NetCDFDataset(ds, test_split=test_split, validation_split=validation_split, is_test=True)"
   ]
  },
  {
   "cell_type": "code",
   "execution_count": 10,
   "metadata": {},
   "outputs": [
    {
     "name": "stdout",
     "output_type": "stream",
     "text": [
      "[X_train] Shape: torch.Size([300, 1, 5, 32, 32])\n",
      "[y_train] Shape: torch.Size([300, 1, 5, 32, 32])\n",
      "[X_val] Shape: torch.Size([100, 1, 5, 32, 32])\n",
      "[y_val] Shape: torch.Size([100, 1, 5, 32, 32])\n",
      "[X_test] Shape: torch.Size([100, 1, 5, 32, 32])\n",
      "[y_test] Shape: torch.Size([100, 1, 5, 32, 32])\n"
     ]
    }
   ],
   "source": [
    "print('[X_train] Shape:', train_dataset.X.shape)\n",
    "print('[y_train] Shape:', train_dataset.y.shape)\n",
    "print('[X_val] Shape:', val_dataset.X.shape)\n",
    "print('[y_val] Shape:', val_dataset.y.shape)\n",
    "print('[X_test] Shape:', test_dataset.X.shape)\n",
    "print('[y_test] Shape:', test_dataset.y.shape)"
   ]
  },
  {
   "cell_type": "code",
   "execution_count": 11,
   "metadata": {},
   "outputs": [],
   "source": [
    "params = {'batch_size': batch_size,\n",
    "          'num_workers': 4, \n",
    "          'worker_init_fn': init_seed}\n",
    "\n",
    "train_loader = DataLoader(dataset=train_dataset, shuffle=True, **params)\n",
    "val_loader = DataLoader(dataset=val_dataset, shuffle=False, **params)\n",
    "test_loader = DataLoader(dataset=test_dataset, shuffle=False, **params)"
   ]
  },
  {
   "cell_type": "markdown",
   "metadata": {},
   "source": [
    "Creating the model"
   ]
  },
  {
   "cell_type": "code",
   "execution_count": 12,
   "metadata": {
    "pixiedust": {
     "displayParams": {}
    }
   },
   "outputs": [],
   "source": [
    "class STConvLSTM(nn.Module):\n",
    "    def __init__(self, input_size, layer_size, kernel_size, hidden_dim, dropout_rate):\n",
    "        \n",
    "        super(STConvLSTM, self).__init__()\n",
    "        self.dropout_rate = dropout_rate\n",
    "        self.convlstm_layers = nn.ModuleList()\n",
    "        self.relu_layers = nn.ModuleList()\n",
    "        self.batch_layers = nn.ModuleList()\n",
    "        self.dropout_layers = nn.ModuleList()\n",
    "        \n",
    "        input_dim = 1\n",
    "        for i in range(layer_size):\n",
    "            self.convlstm_layers.append(\n",
    "                ConvLSTM(input_size=(input_size,input_size), input_dim=input_dim, \n",
    "                        hidden_dim=hidden_dim, kernel_size=(kernel_size,kernel_size), num_layers=1, \n",
    "                        bias=False, return_all_layers=True, batch_first=True)\n",
    "            )\n",
    "            input_dim = hidden_dim\n",
    "            self.relu_layers.append(nn.ReLU())\n",
    "            self.batch_layers.append(nn.BatchNorm3d(num_features=hidden_dim))\n",
    "            self.dropout_layers.append(nn.Dropout(dropout_rate))\n",
    "        \n",
    "        self.conv_layer = nn.Conv3d(in_channels=hidden_dim, out_channels=1, \n",
    "                                    kernel_size=(1,1,1), padding=0)\n",
    "        \n",
    "    def learning_with_dropout(self, x):\n",
    "        for convlstm, relu, batch, drop in zip(self.convlstm_layers, self.relu_layers, \n",
    "                                           self.batch_layers, self.dropout_layers):\n",
    "            x, hidden = convlstm(x)\n",
    "            x = drop(relu(batch(x[0])))\n",
    "            \n",
    "        return x\n",
    "    \n",
    "    def learning_without_dropout(self, x):\n",
    "        for convlstm, relu, batch in zip(self.convlstm_layers, self.relu_layers, self.batch_layers):\n",
    "            x, hidden = convlstm(x)\n",
    "            x = relu(batch(x[0]))\n",
    "            \n",
    "        return x\n",
    "        \n",
    "    def forward(self, input_):\n",
    "        if self.dropout_rate > 0.:\n",
    "            output = self.learning_with_dropout(input_)\n",
    "        else:\n",
    "            output = self.learning_without_dropout(input_)\n",
    "        \n",
    "        return self.conv_layer(output)"
   ]
  },
  {
   "cell_type": "code",
   "execution_count": 13,
   "metadata": {},
   "outputs": [],
   "source": [
    "class RMSELoss(nn.Module):\n",
    "    def __init__(self, eps=1e-6):\n",
    "        super().__init__()\n",
    "        self.mse = nn.MSELoss()\n",
    "        self.eps = eps\n",
    "        \n",
    "    def forward(self,yhat,y):\n",
    "        loss = torch.sqrt(self.mse(yhat,y) + self.eps)\n",
    "        return loss"
   ]
  },
  {
   "cell_type": "code",
   "execution_count": 14,
   "metadata": {
    "pixiedust": {
     "displayParams": {}
    }
   },
   "outputs": [],
   "source": [
    "model = STConvLSTM(input_size, layer_size, kernel_size, hidden_dim, dropout_rate).to(device)\n",
    "\n",
    "criterion = RMSELoss()\n",
    "optimizer = torch.optim.RMSprop(model.parameters(), lr=lr, alpha=0.9, eps=1e-6)"
   ]
  },
  {
   "cell_type": "markdown",
   "metadata": {},
   "source": [
    "Training the model"
   ]
  },
  {
   "cell_type": "code",
   "execution_count": 15,
   "metadata": {
    "pixiedust": {
     "displayParams": {}
    }
   },
   "outputs": [
    {
     "name": "stdout",
     "output_type": "stream",
     "text": [
      "Train on 300 samples, validate on 100 samples\n",
      "Epoch: 1/50 - loss: 21.5765 - val_loss: 21.0238\n",
      "=> Saving a new best\n",
      "Epoch: 2/50 - loss: 21.2302 - val_loss: 21.0163\n",
      "=> Saving a new best\n",
      "Epoch: 3/50 - loss: 21.0536 - val_loss: 20.9983\n",
      "=> Saving a new best\n",
      "Epoch: 4/50 - loss: 20.9094 - val_loss: 20.9449\n",
      "=> Saving a new best\n",
      "Epoch: 5/50 - loss: 20.7732 - val_loss: 20.8189\n",
      "=> Saving a new best\n",
      "Epoch: 6/50 - loss: 20.6455 - val_loss: 20.7114\n",
      "=> Saving a new best\n",
      "Epoch: 7/50 - loss: 20.5161 - val_loss: 20.2662\n",
      "=> Saving a new best\n",
      "Epoch: 8/50 - loss: 20.3841 - val_loss: 20.0269\n",
      "=> Saving a new best\n",
      "Epoch: 9/50 - loss: 20.2438 - val_loss: 19.4659\n",
      "=> Saving a new best\n",
      "Epoch: 10/50 - loss: 20.1076 - val_loss: 19.1680\n",
      "=> Saving a new best\n",
      "Epoch: 11/50 - loss: 19.9635 - val_loss: 18.9029\n",
      "=> Saving a new best\n",
      "Epoch: 12/50 - loss: 19.8215 - val_loss: 19.0525\n",
      "Epoch: 13/50 - loss: 19.6634 - val_loss: 19.0197\n",
      "Epoch: 14/50 - loss: 19.5064 - val_loss: 18.5022\n",
      "=> Saving a new best\n",
      "Epoch: 15/50 - loss: 19.3453 - val_loss: 18.7353\n",
      "Epoch: 16/50 - loss: 19.1786 - val_loss: 18.5321\n",
      "Epoch: 17/50 - loss: 19.0108 - val_loss: 17.8813\n",
      "=> Saving a new best\n",
      "Epoch: 18/50 - loss: 18.8313 - val_loss: 17.8438\n",
      "=> Saving a new best\n",
      "Epoch: 19/50 - loss: 18.6563 - val_loss: 17.5011\n",
      "=> Saving a new best\n",
      "Epoch: 20/50 - loss: 18.4737 - val_loss: 17.9756\n",
      "Epoch: 21/50 - loss: 18.2919 - val_loss: 17.7777\n",
      "Epoch: 22/50 - loss: 18.0971 - val_loss: 17.3074\n",
      "=> Saving a new best\n",
      "Epoch: 23/50 - loss: 17.9034 - val_loss: 16.7748\n",
      "=> Saving a new best\n",
      "Epoch: 24/50 - loss: 17.7131 - val_loss: 16.9307\n",
      "Epoch: 25/50 - loss: 17.5013 - val_loss: 17.1523\n",
      "Epoch: 26/50 - loss: 17.2982 - val_loss: 16.4846\n",
      "=> Saving a new best\n",
      "Epoch: 27/50 - loss: 17.0921 - val_loss: 16.5649\n",
      "Epoch: 28/50 - loss: 16.8786 - val_loss: 15.9987\n",
      "=> Saving a new best\n",
      "Epoch: 29/50 - loss: 16.6664 - val_loss: 15.9390\n",
      "=> Saving a new best\n",
      "Epoch: 30/50 - loss: 16.4410 - val_loss: 15.8719\n",
      "=> Saving a new best\n",
      "Epoch: 31/50 - loss: 16.2167 - val_loss: 15.6135\n",
      "=> Saving a new best\n",
      "Epoch: 32/50 - loss: 15.9945 - val_loss: 15.4663\n",
      "=> Saving a new best\n",
      "Epoch: 33/50 - loss: 15.7562 - val_loss: 15.2052\n",
      "=> Saving a new best\n",
      "Epoch: 34/50 - loss: 15.5238 - val_loss: 14.4810\n",
      "=> Saving a new best\n",
      "Epoch: 35/50 - loss: 15.2825 - val_loss: 14.7782\n",
      "Epoch: 36/50 - loss: 15.0357 - val_loss: 14.3148\n",
      "=> Saving a new best\n",
      "Epoch: 37/50 - loss: 14.7928 - val_loss: 14.0856\n",
      "=> Saving a new best\n",
      "Epoch: 38/50 - loss: 14.5442 - val_loss: 13.7217\n",
      "=> Saving a new best\n",
      "Epoch: 39/50 - loss: 14.2863 - val_loss: 13.2827\n",
      "=> Saving a new best\n",
      "Epoch: 40/50 - loss: 14.0370 - val_loss: 13.1373\n",
      "=> Saving a new best\n",
      "Epoch: 41/50 - loss: 13.7729 - val_loss: 13.7077\n",
      "Epoch: 42/50 - loss: 13.5095 - val_loss: 12.4624\n",
      "=> Saving a new best\n",
      "Epoch: 43/50 - loss: 13.2463 - val_loss: 12.9794\n",
      "Epoch: 44/50 - loss: 12.9709 - val_loss: 12.9465\n",
      "Epoch: 45/50 - loss: 12.6954 - val_loss: 12.2553\n",
      "=> Saving a new best\n",
      "Epoch: 46/50 - loss: 12.4168 - val_loss: 11.9398\n",
      "=> Saving a new best\n",
      "Epoch: 47/50 - loss: 12.1280 - val_loss: 11.7434\n",
      "=> Saving a new best\n",
      "Epoch: 48/50 - loss: 11.8699 - val_loss: 10.8152\n",
      "=> Saving a new best\n",
      "Epoch: 49/50 - loss: 11.5596 - val_loss: 11.0437\n",
      "Epoch: 50/50 - loss: 11.2714 - val_loss: 11.0902\n",
      "CPU times: user 4min 8s, sys: 29.5 s, total: 4min 37s\n",
      "Wall time: 1min 14s\n"
     ]
    }
   ],
   "source": [
    "%%time\n",
    "checkpoint_filename = util.get_checkpoint_filename()\n",
    "\n",
    "print('Train on {} samples, validate on {} samples'.format(len(train_dataset), len(val_dataset)))\n",
    "\n",
    "trainer = Trainer(model, criterion, optimizer, train_loader, val_loader, epochs, \n",
    "                          device, verbose=True, patience=None, no_stop=True)\n",
    "\n",
    "train_losses, val_losses = trainer.fit(checkpoint_filename)"
   ]
  },
  {
   "cell_type": "code",
   "execution_count": 16,
   "metadata": {},
   "outputs": [
    {
     "data": {
      "image/png": "[encoded data removed]",
      "text/plain": [
       "<Figure size 1080x576 with 1 Axes>"
      ]
     },
     "metadata": {
      "needs_background": "light"
     },
     "output_type": "display_data"
    }
   ],
   "source": [
    "util.save_loss(train_losses, val_losses)\n",
    "util.plot([train_losses, val_losses], ['Training', 'Validation'], \n",
    "          'Epochs', 'Error', 'Error analysis', inline=True)"
   ]
  },
  {
   "cell_type": "code",
   "execution_count": 17,
   "metadata": {},
   "outputs": [
    {
     "name": "stdout",
     "output_type": "stream",
     "text": [
      "=> Loaded checkpoint cfsr_1_20191011-210037.pth.tar (best epoch: 48, validation error: 10.8152)\n"
     ]
    }
   ],
   "source": [
    "model,_, best_epoch, val_loss = trainer.load_checkpoint(checkpoint_filename)"
   ]
  },
  {
   "cell_type": "markdown",
   "metadata": {},
   "source": [
    "Evaluating the model"
   ]
  },
  {
   "cell_type": "code",
   "execution_count": 18,
   "metadata": {},
   "outputs": [
    {
     "name": "stdout",
     "output_type": "stream",
     "text": [
      "ConvLSTM RMSELoss: 10.6326\n"
     ]
    }
   ],
   "source": [
    "evaluator = Evaluator(model, criterion, test_loader, device)\n",
    "test_loss = evaluator.eval()\n",
    "loss_type = type(criterion).__name__\n",
    "print(f'ConvLSTM {loss_type}: {test_loss:.4f}')"
   ]
  },
  {
   "cell_type": "code",
   "execution_count": 19,
   "metadata": {},
   "outputs": [],
   "source": [
    "if (torch.cuda.is_available()):\n",
    "    torch.cuda.empty_cache()"
   ]
  },
  {
   "cell_type": "markdown",
   "metadata": {},
   "source": [
    "Notification via email (*uncomment the last line to send the email*)"
   ]
  },
  {
   "cell_type": "code",
   "execution_count": 21,
   "metadata": {},
   "outputs": [],
   "source": [
    "model_info = {'Jupyter': 'yes',\n",
    "              'best_epoch': best_epoch,\n",
    "              'val_error': val_loss,\n",
    "              'test_error': test_loss,\n",
    "              'loss_type': loss_type,\n",
    "              'step': step,\n",
    "              'layer': layer_size,\n",
    "              'kernel_size': kernel_size,\n",
    "              'filter': hidden_dim,\n",
    "              'dropout_rate': dropout_rate,\n",
    "              'learning_rate': lr,\n",
    "              'dataset': dataset,\n",
    "              'hostname': platform.node()}"
   ]
  },
  {
   "cell_type": "code",
   "execution_count": 22,
   "metadata": {},
   "outputs": [
    {
     "name": "stdout",
     "output_type": "stream",
     "text": [
      "timestamp: 77.94450545310974\n",
      "email sent\n"
     ]
    }
   ],
   "source": [
    "#util.send_email(model_info)"
   ]
  }
 ],
 "metadata": {
  "kernelspec": {
   "display_name": "pytorch",
   "language": "python",
   "name": "pytorch"
  },
  "language_info": {
   "codemirror_mode": {
    "name": "ipython",
    "version": 3
   },
   "file_extension": ".py",
   "mimetype": "text/x-python",
   "name": "python",
   "nbconvert_exporter": "python",
   "pygments_lexer": "ipython3",
   "version": "3.6.7"
  }
 },
 "nbformat": 4,
 "nbformat_minor": 2
}
