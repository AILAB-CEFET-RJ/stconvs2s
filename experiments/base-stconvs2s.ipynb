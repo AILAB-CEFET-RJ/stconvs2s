{
 "cells": [
  {
   "cell_type": "code",
   "execution_count": 1,
   "metadata": {},
   "outputs": [],
   "source": [
    "import sys\n",
    "sys.path.append('..')\n",
    "import warnings\n",
    "warnings.filterwarnings('ignore')"
   ]
  },
  {
   "cell_type": "code",
   "execution_count": 2,
   "metadata": {},
   "outputs": [],
   "source": [
    "import os\n",
    "import numpy as np\n",
    "import xarray as xr\n",
    "import random as rd\n",
    "import platform\n",
    "%matplotlib inline\n",
    "\n",
    "from tool.train_evaluate import Trainer, Evaluator\n",
    "from tool.dataset import NetCDFDataset\n",
    "from tool.utils import Util\n",
    "\n",
    "import torch\n",
    "import torch.nn as nn\n",
    "from torch.utils.data import Dataset, DataLoader\n",
    "from torch import optim"
   ]
  },
  {
   "cell_type": "markdown",
   "metadata": {},
   "source": [
    "Load specific variables for each dataset"
   ]
  },
  {
   "cell_type": "code",
   "execution_count": 3,
   "metadata": {},
   "outputs": [
    {
     "name": "stdout",
     "output_type": "stream",
     "text": [
      "version = 1\n",
      "dataset = ../data/dataset-ucar-1979-2015-seq5-ystep5.nc\n",
      "input_size = 32\n",
      "step = 5\n",
      "dropout rate = 0.0\n",
      "learning rate = 0.001\n",
      "upsample = False\n",
      "upsample mode = None\n",
      "param = {'encoder_layer_size': 2, 'decoder_layer_size': 2, 'kernel_size': 3, 'filter_size': 64}\n"
     ]
    }
   ],
   "source": [
    "%run dataset-variables.py"
   ]
  },
  {
   "cell_type": "code",
   "execution_count": 4,
   "metadata": {},
   "outputs": [
    {
     "data": {
      "text/plain": [
       "device(type='cuda', index=0)"
      ]
     },
     "execution_count": 4,
     "metadata": {},
     "output_type": "execute_result"
    }
   ],
   "source": [
    "util = Util('STConvS2S', version=version, prefix=dataset)\n",
    "\n",
    "os.environ[\"CUDA_VISIBLE_DEVICES\"]='0'\n",
    "device = torch.device('cuda:0' if torch.cuda.is_available() else 'cpu')\n",
    "device"
   ]
  },
  {
   "cell_type": "markdown",
   "metadata": {},
   "source": [
    "Seed"
   ]
  },
  {
   "cell_type": "code",
   "execution_count": 5,
   "metadata": {},
   "outputs": [],
   "source": [
    "seed = 1000\n",
    "np.random.seed(seed)\n",
    "rd.seed(seed)\n",
    "torch.manual_seed(seed)\n",
    "torch.cuda.manual_seed(seed)\n",
    "torch.backends.cudnn.deterministic=True"
   ]
  },
  {
   "cell_type": "code",
   "execution_count": 6,
   "metadata": {},
   "outputs": [],
   "source": [
    "def init_seed(seed):\n",
    "    np.random.seed(seed)"
   ]
  },
  {
   "cell_type": "markdown",
   "metadata": {},
   "source": [
    "Hyperparameters"
   ]
  },
  {
   "cell_type": "code",
   "execution_count": 7,
   "metadata": {},
   "outputs": [],
   "source": [
    "epochs = 50\n",
    "batch_size = 50\n",
    "validation_split = 0.2\n",
    "test_split = 0.2\n",
    "encoder_layer_size = param['encoder_layer_size']\n",
    "decoder_layer_size = param['decoder_layer_size']\n",
    "kernel_size = param['kernel_size']\n",
    "filter_size = param['filter_size']"
   ]
  },
  {
   "cell_type": "markdown",
   "metadata": {},
   "source": [
    "Loading the dataset"
   ]
  },
  {
   "cell_type": "code",
   "execution_count": 8,
   "metadata": {},
   "outputs": [],
   "source": [
    "ds = xr.open_mfdataset(dataset_file)\n",
    "#ds = ds[dict(sample=slice(0,500))]"
   ]
  },
  {
   "cell_type": "code",
   "execution_count": 9,
   "metadata": {},
   "outputs": [],
   "source": [
    "train_dataset = NetCDFDataset(ds, test_split=test_split, validation_split=validation_split)\n",
    "val_dataset = NetCDFDataset(ds, test_split=test_split, validation_split=validation_split, is_validation=True)\n",
    "test_dataset = NetCDFDataset(ds, test_split=test_split, validation_split=validation_split, is_test=True)"
   ]
  },
  {
   "cell_type": "code",
   "execution_count": 10,
   "metadata": {},
   "outputs": [
    {
     "name": "stdout",
     "output_type": "stream",
     "text": [
      "[X_train] Shape: torch.Size([300, 1, 5, 32, 32])\n",
      "[y_train] Shape: torch.Size([300, 1, 5, 32, 32])\n",
      "[X_val] Shape: torch.Size([100, 1, 5, 32, 32])\n",
      "[y_val] Shape: torch.Size([100, 1, 5, 32, 32])\n",
      "[X_test] Shape: torch.Size([100, 1, 5, 32, 32])\n",
      "[y_test] Shape: torch.Size([100, 1, 5, 32, 32])\n"
     ]
    }
   ],
   "source": [
    "print('[X_train] Shape:', train_dataset.X.shape)\n",
    "print('[y_train] Shape:', train_dataset.y.shape)\n",
    "print('[X_val] Shape:', val_dataset.X.shape)\n",
    "print('[y_val] Shape:', val_dataset.y.shape)\n",
    "print('[X_test] Shape:', test_dataset.X.shape)\n",
    "print('[y_test] Shape:', test_dataset.y.shape)"
   ]
  },
  {
   "cell_type": "code",
   "execution_count": 11,
   "metadata": {},
   "outputs": [],
   "source": [
    "params = {'batch_size': batch_size,\n",
    "          'num_workers': 4, \n",
    "          'worker_init_fn': init_seed}\n",
    "\n",
    "train_loader = DataLoader(dataset=train_dataset, shuffle=True, **params)\n",
    "val_loader = DataLoader(dataset=val_dataset, shuffle=False, **params)\n",
    "test_loader = DataLoader(dataset=test_dataset, shuffle=False, **params)"
   ]
  },
  {
   "cell_type": "markdown",
   "metadata": {},
   "source": [
    "Creating the model"
   ]
  },
  {
   "cell_type": "code",
   "execution_count": 12,
   "metadata": {
    "pixiedust": {
     "displayParams": {}
    }
   },
   "outputs": [],
   "source": [
    "class EncoderSTCNN(nn.Module):\n",
    "    \n",
    "    def __init__(self, layer_size, kernel_size, initial_filter_size, channels, dropout_rate):\n",
    "        super(EncoderSTCNN, self).__init__()\n",
    "        self.padding = kernel_size // 2\n",
    "        self.dropout_rate = dropout_rate\n",
    "        self.conv_layers = nn.ModuleList()\n",
    "        self.relu_layers = nn.ModuleList()\n",
    "        self.batch_layers = nn.ModuleList()\n",
    "        self.dropout_layers = nn.ModuleList()\n",
    "        \n",
    "        spatial_kernel_size =  [1, kernel_size, kernel_size]\n",
    "        spatial_padding =  [0, self.padding, self.padding]\n",
    "        \n",
    "        out_channels = initial_filter_size\n",
    "        in_channels = channels\n",
    "        for i in range(layer_size):\n",
    "            self.conv_layers.append(\n",
    "                nn.Conv3d(in_channels=in_channels, out_channels=out_channels, \n",
    "                          kernel_size=spatial_kernel_size, padding=spatial_padding, bias=False)\n",
    "            )\n",
    "            self.relu_layers.append(nn.ReLU())\n",
    "            self.batch_layers.append(nn.BatchNorm3d(out_channels))\n",
    "            self.dropout_layers.append(nn.Dropout(dropout_rate))\n",
    "            in_channels = out_channels\n",
    "            \n",
    "    def learning_with_dropout(self, x):\n",
    "        for conv, relu, batch, drop in zip(self.conv_layers, self.relu_layers, \n",
    "                                           self.batch_layers, self.dropout_layers):\n",
    "            x = drop(relu(batch(conv(x))))\n",
    "            \n",
    "        return x\n",
    "    \n",
    "    def learning_without_dropout(self, x):\n",
    "        for conv, relu, batch in zip(self.conv_layers, self.relu_layers, self.batch_layers):\n",
    "            x = relu(batch(conv(x)))\n",
    "            \n",
    "        return x\n",
    "        \n",
    "    def forward(self, input_):\n",
    "        if self.dropout_rate > 0.:\n",
    "            output = self.learning_with_dropout(input_)\n",
    "        else:\n",
    "            output = self.learning_without_dropout(input_)\n",
    "        \n",
    "        return output"
   ]
  },
  {
   "cell_type": "code",
   "execution_count": 13,
   "metadata": {},
   "outputs": [],
   "source": [
    "class DecoderSTCNN(nn.Module):\n",
    "    \n",
    "    def __init__(self, layer_size, kernel_size, initial_filter_size, channels, dropout_rate):\n",
    "        super(DecoderSTCNN, self).__init__()\n",
    "        self.padding = kernel_size - 1\n",
    "        self.dropout_rate = dropout_rate\n",
    "        self.conv_layers = nn.ModuleList()\n",
    "        self.relu_layers = nn.ModuleList()\n",
    "        self.batch_layers = nn.ModuleList()\n",
    "        self.dropout_layers = nn.ModuleList()\n",
    "\n",
    "        temporal_kernel_size =  [kernel_size, 1, 1]\n",
    "        temporal_padding =  [self.padding, 0, 0]\n",
    "        \n",
    "        out_channels = initial_filter_size\n",
    "        in_channels = channels\n",
    "        for i in range(layer_size):\n",
    "            self.conv_layers.append(\n",
    "                nn.Conv3d(in_channels=in_channels, out_channels=out_channels, \n",
    "                          kernel_size=temporal_kernel_size, padding=temporal_padding, bias=False)\n",
    "            )\n",
    "            self.relu_layers.append(nn.ReLU())\n",
    "            self.batch_layers.append(nn.BatchNorm3d(out_channels))\n",
    "            self.dropout_layers.append(nn.Dropout(dropout_rate))\n",
    "            in_channels = out_channels\n",
    "\n",
    "        padding_final = [kernel_size // 2, 0, 0]\n",
    "        self.conv_final = nn.Conv3d(in_channels=in_channels, out_channels=1, \n",
    "              kernel_size=temporal_kernel_size, padding=padding_final, bias=True)\n",
    "        \n",
    "        \n",
    "    def learning_with_dropout(self, x):\n",
    "        for conv, relu, batch, drop in zip(self.conv_layers, self.relu_layers, \n",
    "                                           self.batch_layers, self.dropout_layers):\n",
    "            x = conv(x)[:,:,:-self.padding,:,:]\n",
    "            x = drop(relu(batch(x)))\n",
    "            \n",
    "        return x\n",
    "    \n",
    "    def learning_without_dropout(self, x):            \n",
    "        for conv, relu, batch in zip(self.conv_layers, self.relu_layers, self.batch_layers):\n",
    "            x = conv(x)[:,:,:-self.padding,:,:]\n",
    "            x = relu(batch(x))\n",
    "            \n",
    "        return x\n",
    "        \n",
    "    def forward(self, input_):\n",
    "        if self.dropout_rate > 0.:\n",
    "            output = self.learning_with_dropout(input_)\n",
    "        else:\n",
    "            output = self.learning_without_dropout(input_)\n",
    "        \n",
    "        return self.conv_final(output)"
   ]
  },
  {
   "cell_type": "code",
   "execution_count": 14,
   "metadata": {},
   "outputs": [],
   "source": [
    "class STConvS2S(nn.Module):\n",
    "    \n",
    "    def __init__(self, encoder_layer_size, decoder_layer_size, kernel_size, \n",
    "                 filter_size, channels, dropout_rate):\n",
    "        super(STConvS2S, self).__init__()\n",
    "        \n",
    "        self.encoder = EncoderSTCNN(layer_size=encoder_layer_size, kernel_size=kernel_size, \n",
    "                                    initial_filter_size=filter_size, channels=channels, \n",
    "                                    dropout_rate=dropout_rate)\n",
    "        self.decoder = DecoderSTCNN(layer_size=decoder_layer_size, kernel_size=kernel_size, \n",
    "                                    initial_filter_size=filter_size, channels=filter_size,\n",
    "                                    dropout_rate=dropout_rate)\n",
    "        \n",
    "    def forward(self, x):\n",
    "        out = self.encoder(x)\n",
    "        return self.decoder(out)"
   ]
  },
  {
   "cell_type": "code",
   "execution_count": 15,
   "metadata": {},
   "outputs": [],
   "source": [
    "class RMSELoss(nn.Module):\n",
    "    def __init__(self, eps=1e-6):\n",
    "        super().__init__()\n",
    "        self.mse = nn.MSELoss()\n",
    "        self.eps = eps\n",
    "        \n",
    "    def forward(self,yhat,y):\n",
    "        loss = torch.sqrt(self.mse(yhat,y) + self.eps)\n",
    "        return loss"
   ]
  },
  {
   "cell_type": "code",
   "execution_count": 16,
   "metadata": {
    "pixiedust": {
     "displayParams": {}
    }
   },
   "outputs": [],
   "source": [
    "model = STConvS2S(encoder_layer_size, decoder_layer_size, kernel_size, \n",
    "                  filter_size, channels=train_dataset.X.shape[1], \n",
    "                  dropout_rate=dropout_rate).to(device)\n",
    "criterion = RMSELoss()\n",
    "\n",
    "opt_params = {'lr': lr, \n",
    "              'alpha': 0.9, \n",
    "              'eps': 1e-6}\n",
    "\n",
    "optimizer = torch.optim.RMSprop(model.parameters(), **opt_params)"
   ]
  },
  {
   "cell_type": "markdown",
   "metadata": {},
   "source": [
    "Training the model"
   ]
  },
  {
   "cell_type": "code",
   "execution_count": 17,
   "metadata": {
    "pixiedust": {
     "displayParams": {}
    }
   },
   "outputs": [
    {
     "name": "stdout",
     "output_type": "stream",
     "text": [
      "Train on 300 samples, validate on 100 samples\n",
      "Epoch: 1/50 - loss: 21.5861 - val_loss: 21.0514\n",
      "=> Saving a new best\n",
      "Epoch: 2/50 - loss: 20.9183 - val_loss: 21.0179\n",
      "=> Saving a new best\n",
      "Epoch: 3/50 - loss: 20.4725 - val_loss: 20.7793\n",
      "=> Saving a new best\n",
      "Epoch: 4/50 - loss: 20.0658 - val_loss: 20.3086\n",
      "=> Saving a new best\n",
      "Epoch: 5/50 - loss: 19.6695 - val_loss: 19.4286\n",
      "=> Saving a new best\n",
      "Epoch: 6/50 - loss: 19.2747 - val_loss: 18.7748\n",
      "=> Saving a new best\n",
      "Epoch: 7/50 - loss: 18.8708 - val_loss: 18.1168\n",
      "=> Saving a new best\n",
      "Epoch: 8/50 - loss: 18.4618 - val_loss: 17.5107\n",
      "=> Saving a new best\n",
      "Epoch: 9/50 - loss: 18.0432 - val_loss: 16.9642\n",
      "=> Saving a new best\n",
      "Epoch: 10/50 - loss: 17.6205 - val_loss: 16.7099\n",
      "=> Saving a new best\n",
      "Epoch: 11/50 - loss: 17.1766 - val_loss: 16.6022\n",
      "=> Saving a new best\n",
      "Epoch: 12/50 - loss: 16.7191 - val_loss: 16.0845\n",
      "=> Saving a new best\n",
      "Epoch: 13/50 - loss: 16.2504 - val_loss: 15.7769\n",
      "=> Saving a new best\n",
      "Epoch: 14/50 - loss: 15.7645 - val_loss: 14.7891\n",
      "=> Saving a new best\n",
      "Epoch: 15/50 - loss: 15.2782 - val_loss: 14.3770\n",
      "=> Saving a new best\n",
      "Epoch: 16/50 - loss: 14.7783 - val_loss: 13.8425\n",
      "=> Saving a new best\n",
      "Epoch: 17/50 - loss: 14.2693 - val_loss: 13.4455\n",
      "=> Saving a new best\n",
      "Epoch: 18/50 - loss: 13.7504 - val_loss: 13.3222\n",
      "=> Saving a new best\n",
      "Epoch: 19/50 - loss: 13.2273 - val_loss: 13.0766\n",
      "=> Saving a new best\n",
      "Epoch: 20/50 - loss: 12.6764 - val_loss: 12.4883\n",
      "=> Saving a new best\n",
      "Epoch: 21/50 - loss: 12.1289 - val_loss: 12.0712\n",
      "=> Saving a new best\n",
      "Epoch: 22/50 - loss: 11.5544 - val_loss: 11.1289\n",
      "=> Saving a new best\n",
      "Epoch: 23/50 - loss: 10.9645 - val_loss: 10.8336\n",
      "=> Saving a new best\n",
      "Epoch: 24/50 - loss: 10.3947 - val_loss: 10.0883\n",
      "=> Saving a new best\n",
      "Epoch: 25/50 - loss: 9.8277 - val_loss: 9.3262\n",
      "=> Saving a new best\n",
      "Epoch: 26/50 - loss: 9.2848 - val_loss: 9.1864\n",
      "=> Saving a new best\n",
      "Epoch: 27/50 - loss: 8.7399 - val_loss: 8.9464\n",
      "=> Saving a new best\n",
      "Epoch: 28/50 - loss: 8.1520 - val_loss: 7.9963\n",
      "=> Saving a new best\n",
      "Epoch: 29/50 - loss: 7.6420 - val_loss: 6.8935\n",
      "=> Saving a new best\n",
      "Epoch: 30/50 - loss: 7.1075 - val_loss: 6.6497\n",
      "=> Saving a new best\n",
      "Epoch: 31/50 - loss: 6.5603 - val_loss: 6.3650\n",
      "=> Saving a new best\n",
      "Epoch: 32/50 - loss: 6.0477 - val_loss: 5.8021\n",
      "=> Saving a new best\n",
      "Epoch: 33/50 - loss: 5.5658 - val_loss: 5.3215\n",
      "=> Saving a new best\n",
      "Epoch: 34/50 - loss: 5.0742 - val_loss: 5.0003\n",
      "=> Saving a new best\n",
      "Epoch: 35/50 - loss: 4.5561 - val_loss: 4.7080\n",
      "=> Saving a new best\n",
      "Epoch: 36/50 - loss: 4.1487 - val_loss: 3.9754\n",
      "=> Saving a new best\n",
      "Epoch: 37/50 - loss: 3.7641 - val_loss: 3.7392\n",
      "=> Saving a new best\n",
      "Epoch: 38/50 - loss: 3.3266 - val_loss: 3.3257\n",
      "=> Saving a new best\n",
      "Epoch: 39/50 - loss: 3.0060 - val_loss: 3.1021\n",
      "=> Saving a new best\n",
      "Epoch: 40/50 - loss: 2.6714 - val_loss: 2.9188\n",
      "=> Saving a new best\n",
      "Epoch: 41/50 - loss: 2.4272 - val_loss: 2.7089\n",
      "=> Saving a new best\n",
      "Epoch: 42/50 - loss: 2.2572 - val_loss: 2.7668\n",
      "Epoch: 43/50 - loss: 2.2202 - val_loss: 2.6095\n",
      "=> Saving a new best\n",
      "Epoch: 44/50 - loss: 2.0394 - val_loss: 2.4002\n",
      "=> Saving a new best\n",
      "Epoch: 45/50 - loss: 1.9977 - val_loss: 2.2856\n",
      "=> Saving a new best\n",
      "Epoch: 46/50 - loss: 1.9030 - val_loss: 2.3046\n",
      "Epoch: 47/50 - loss: 2.0079 - val_loss: 2.3398\n",
      "Epoch: 48/50 - loss: 1.8903 - val_loss: 2.4493\n",
      "Epoch: 49/50 - loss: 1.9059 - val_loss: 2.0792\n",
      "=> Saving a new best\n",
      "Epoch: 50/50 - loss: 1.9125 - val_loss: 2.2169\n",
      "CPU times: user 18.3 s, sys: 15.7 s, total: 34 s\n",
      "Wall time: 37.3 s\n"
     ]
    }
   ],
   "source": [
    "%%time\n",
    "checkpoint_filename = util.get_checkpoint_filename()\n",
    "\n",
    "print('Train on {} samples, validate on {} samples'.format(len(train_dataset), len(val_dataset)))\n",
    "\n",
    "trainer = Trainer(model, criterion, optimizer, train_loader, val_loader, epochs, \n",
    "                          device, verbose=True, patience=None, no_stop=True)\n",
    "\n",
    "train_losses, val_losses = trainer.fit(checkpoint_filename)"
   ]
  },
  {
   "cell_type": "code",
   "execution_count": 18,
   "metadata": {},
   "outputs": [
    {
     "data": {
      "image/png": "[encoded data removed]",
      "text/plain": [
       "<Figure size 1080x576 with 1 Axes>"
      ]
     },
     "metadata": {
      "needs_background": "light"
     },
     "output_type": "display_data"
    }
   ],
   "source": [
    "util.save_loss(train_losses, val_losses)\n",
    "util.plot([train_losses, val_losses], ['Training', 'Validation'], \n",
    "          'Epochs', 'Error', 'Error analysis', inline=True)"
   ]
  },
  {
   "cell_type": "code",
   "execution_count": 19,
   "metadata": {},
   "outputs": [
    {
     "name": "stdout",
     "output_type": "stream",
     "text": [
      "=> Loaded checkpoint cfsr_1_20191011-210302.pth.tar (best epoch: 49, validation error: 2.0792)\n"
     ]
    }
   ],
   "source": [
    "model,_, best_epoch, val_loss = trainer.load_checkpoint(checkpoint_filename)"
   ]
  },
  {
   "cell_type": "markdown",
   "metadata": {},
   "source": [
    "Evaluating the model"
   ]
  },
  {
   "cell_type": "code",
   "execution_count": 20,
   "metadata": {},
   "outputs": [
    {
     "name": "stdout",
     "output_type": "stream",
     "text": [
      "STConvS2S RMSELoss: 1.9345\n"
     ]
    }
   ],
   "source": [
    "evaluator = Evaluator(model, criterion, test_loader, device)\n",
    "test_loss = evaluator.eval()\n",
    "loss_type = type(criterion).__name__\n",
    "print(f'STConvS2S {loss_type}: {test_loss:.4f}')"
   ]
  },
  {
   "cell_type": "code",
   "execution_count": 21,
   "metadata": {},
   "outputs": [],
   "source": [
    "if (torch.cuda.is_available()):\n",
    "    torch.cuda.empty_cache()"
   ]
  },
  {
   "cell_type": "markdown",
   "metadata": {},
   "source": [
    "Notification via email (*uncomment the last line to send the email*)"
   ]
  },
  {
   "cell_type": "code",
   "execution_count": 23,
   "metadata": {},
   "outputs": [],
   "source": [
    "model_info = {'Jupyter': 'yes',\n",
    "              'best_epoch': best_epoch,\n",
    "              'val_error': val_loss,\n",
    "              'test_error': test_loss,\n",
    "              'loss_type': loss_type,\n",
    "              'step': step,\n",
    "              'e_layer': encoder_layer_size,\n",
    "              'e_kernel_size': kernel_size,\n",
    "              'e_filter': filter_size,\n",
    "              'd_layer': decoder_layer_size,\n",
    "              'd_kernel_size': kernel_size,\n",
    "              'd_filter': filter_size,\n",
    "              'dropout_rate': dropout_rate,\n",
    "              'learning_rate': lr,\n",
    "              'dataset': dataset,\n",
    "              'hostname': platform.node()}"
   ]
  },
  {
   "cell_type": "code",
   "execution_count": 24,
   "metadata": {},
   "outputs": [
    {
     "name": "stdout",
     "output_type": "stream",
     "text": [
      "timestamp: 41.148335218429565\n",
      "email sent\n"
     ]
    }
   ],
   "source": [
    "#util.send_email(model_info)"
   ]
  }
 ],
 "metadata": {
  "kernelspec": {
   "display_name": "pytorch",
   "language": "python",
   "name": "pytorch"
  },
  "language_info": {
   "codemirror_mode": {
    "name": "ipython",
    "version": 3
   },
   "file_extension": ".py",
   "mimetype": "text/x-python",
   "name": "python",
   "nbconvert_exporter": "python",
   "pygments_lexer": "ipython3",
   "version": "3.6.7"
  }
 },
 "nbformat": 4,
 "nbformat_minor": 2
}
