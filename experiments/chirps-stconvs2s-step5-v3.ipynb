{
 "cells": [
  {
   "cell_type": "code",
   "execution_count": 1,
   "metadata": {},
   "outputs": [],
   "source": [
    "import sys\n",
    "sys.path.append('..')\n",
    "import warnings\n",
    "warnings.filterwarnings('ignore')"
   ]
  },
  {
   "cell_type": "code",
   "execution_count": 2,
   "metadata": {},
   "outputs": [],
   "source": [
    "import os\n",
    "import numpy as np\n",
    "import xarray as xr\n",
    "import random as rd\n",
    "import platform\n",
    "%matplotlib inline\n",
    "\n",
    "from tool.train_evaluate import Trainer, Evaluator\n",
    "from tool.dataset import NetCDFDataset\n",
    "from tool.utils import Util\n",
    "\n",
    "import torch\n",
    "import torch.nn as nn\n",
    "from torch.utils.data import Dataset, DataLoader\n",
    "from torch import optim"
   ]
  },
  {
   "cell_type": "markdown",
   "metadata": {},
   "source": [
    "Load specific variables for each dataset"
   ]
  },
  {
   "cell_type": "code",
   "execution_count": 3,
   "metadata": {},
   "outputs": [
    {
     "name": "stdout",
     "output_type": "stream",
     "text": [
      "version = 3\n",
      "dataset = ../data/dataset-chirps-1981-2019-seq5-ystep5.nc\n",
      "input_size = 50\n",
      "step = 5\n",
      "dropout rate = 0.2\n",
      "learning rate = 0.001\n",
      "param = {'encoder_layer_size': 3, 'decoder_layer_size': 3, 'kernel_size': 3, 'filter_size': 64}\n"
     ]
    }
   ],
   "source": [
    "%run dataset-variables.py"
   ]
  },
  {
   "cell_type": "code",
   "execution_count": 4,
   "metadata": {},
   "outputs": [
    {
     "data": {
      "text/plain": [
       "device(type='cuda', index=0)"
      ]
     },
     "execution_count": 4,
     "metadata": {},
     "output_type": "execute_result"
    }
   ],
   "source": [
    "util = Util('STConvS2S', version=version, dataset=dataset)\n",
    "\n",
    "os.environ[\"CUDA_VISIBLE_DEVICES\"]='0'\n",
    "device = torch.device('cuda:0' if torch.cuda.is_available() else 'cpu')\n",
    "device"
   ]
  },
  {
   "cell_type": "markdown",
   "metadata": {},
   "source": [
    "Seed"
   ]
  },
  {
   "cell_type": "code",
   "execution_count": 5,
   "metadata": {},
   "outputs": [],
   "source": [
    "seed = 1000\n",
    "np.random.seed(seed)\n",
    "rd.seed(seed)\n",
    "torch.manual_seed(seed)\n",
    "torch.cuda.manual_seed(seed)\n",
    "torch.backends.cudnn.deterministic=True"
   ]
  },
  {
   "cell_type": "code",
   "execution_count": 6,
   "metadata": {},
   "outputs": [],
   "source": [
    "def init_seed(seed):\n",
    "    np.random.seed(seed)"
   ]
  },
  {
   "cell_type": "markdown",
   "metadata": {},
   "source": [
    "Hyperparameters"
   ]
  },
  {
   "cell_type": "code",
   "execution_count": 7,
   "metadata": {},
   "outputs": [],
   "source": [
    "epochs = 50\n",
    "batch_size = 50\n",
    "validation_split = 0.2\n",
    "test_split = 0.2\n",
    "encoder_layer_size = param['encoder_layer_size']\n",
    "decoder_layer_size = param['decoder_layer_size']\n",
    "kernel_size = param['kernel_size']\n",
    "filter_size = param['filter_size']"
   ]
  },
  {
   "cell_type": "markdown",
   "metadata": {},
   "source": [
    "Loading the dataset"
   ]
  },
  {
   "cell_type": "code",
   "execution_count": 8,
   "metadata": {},
   "outputs": [],
   "source": [
    "ds = xr.open_mfdataset(dataset_file)\n",
    "#ds = ds[dict(sample=slice(0,500))]"
   ]
  },
  {
   "cell_type": "code",
   "execution_count": 9,
   "metadata": {},
   "outputs": [],
   "source": [
    "train_dataset = NetCDFDataset(ds, test_split=test_split, validation_split=validation_split)\n",
    "val_dataset = NetCDFDataset(ds, test_split=test_split, validation_split=validation_split, is_validation=True)\n",
    "test_dataset = NetCDFDataset(ds, test_split=test_split, validation_split=validation_split, is_test=True)"
   ]
  },
  {
   "cell_type": "code",
   "execution_count": 10,
   "metadata": {},
   "outputs": [
    {
     "name": "stdout",
     "output_type": "stream",
     "text": [
      "[X_train] Shape: torch.Size([8376, 1, 5, 50, 50])\n",
      "[y_train] Shape: torch.Size([8376, 1, 5, 50, 50])\n",
      "[X_val] Shape: torch.Size([2792, 1, 5, 50, 50])\n",
      "[y_val] Shape: torch.Size([2792, 1, 5, 50, 50])\n",
      "[X_test] Shape: torch.Size([2792, 1, 5, 50, 50])\n",
      "[y_test] Shape: torch.Size([2792, 1, 5, 50, 50])\n"
     ]
    }
   ],
   "source": [
    "print('[X_train] Shape:', train_dataset.X.shape)\n",
    "print('[y_train] Shape:', train_dataset.y.shape)\n",
    "print('[X_val] Shape:', val_dataset.X.shape)\n",
    "print('[y_val] Shape:', val_dataset.y.shape)\n",
    "print('[X_test] Shape:', test_dataset.X.shape)\n",
    "print('[y_test] Shape:', test_dataset.y.shape)"
   ]
  },
  {
   "cell_type": "code",
   "execution_count": 11,
   "metadata": {},
   "outputs": [],
   "source": [
    "params = {'batch_size': batch_size,\n",
    "          'num_workers': 4, \n",
    "          'worker_init_fn': init_seed}\n",
    "\n",
    "train_loader = DataLoader(dataset=train_dataset, shuffle=True, **params)\n",
    "val_loader = DataLoader(dataset=val_dataset, shuffle=False, **params)\n",
    "test_loader = DataLoader(dataset=test_dataset, shuffle=False, **params)"
   ]
  },
  {
   "cell_type": "markdown",
   "metadata": {},
   "source": [
    "Creating the model"
   ]
  },
  {
   "cell_type": "code",
   "execution_count": 12,
   "metadata": {
    "pixiedust": {
     "displayParams": {}
    }
   },
   "outputs": [],
   "source": [
    "class EncoderSTCNN(nn.Module):\n",
    "    \n",
    "    def __init__(self, layer_size, kernel_size, initial_filter_size, channels):\n",
    "        super(EncoderSTCNN, self).__init__()\n",
    "        self.padding = kernel_size // 2\n",
    "        self.conv_layers = nn.ModuleList()\n",
    "        self.relu_layers = nn.ModuleList()\n",
    "        self.batch_layers = nn.ModuleList()\n",
    "        self.dropout_layers = nn.ModuleList()\n",
    "        \n",
    "        spatial_kernel_size =  [1, kernel_size, kernel_size]\n",
    "        spatial_padding =  [0, self.padding, self.padding]\n",
    "        \n",
    "        out_channels = initial_filter_size\n",
    "        in_channels = channels\n",
    "        for i in range(layer_size):\n",
    "            self.conv_layers.append(\n",
    "                nn.Conv3d(in_channels=in_channels, out_channels=out_channels, \n",
    "                          kernel_size=spatial_kernel_size, padding=spatial_padding, bias=False)\n",
    "            )\n",
    "            self.relu_layers.append(nn.ReLU())\n",
    "            self.batch_layers.append(nn.BatchNorm3d(out_channels))\n",
    "            self.dropout_layers.append(nn.Dropout(dropout_rate))\n",
    "            in_channels = out_channels\n",
    "        \n",
    "    def forward(self, x):\n",
    "        for conv, relu, batch, drop in zip(self.conv_layers, self.relu_layers, \n",
    "                                           self.batch_layers, self.dropout_layers):\n",
    "            x = conv(x)\n",
    "            x = batch(x)\n",
    "            x = relu(x)\n",
    "            x = drop(x)\n",
    "            \n",
    "        return x"
   ]
  },
  {
   "cell_type": "code",
   "execution_count": 13,
   "metadata": {},
   "outputs": [],
   "source": [
    "class DecoderSTCNN(nn.Module):\n",
    "    \n",
    "    def __init__(self, layer_size, kernel_size, initial_filter_size, channels):\n",
    "        super(DecoderSTCNN, self).__init__()\n",
    "        self.padding = kernel_size - 1\n",
    "        self.conv_layers = nn.ModuleList()\n",
    "        self.relu_layers = nn.ModuleList()\n",
    "        self.batch_layers = nn.ModuleList()\n",
    "        self.dropout_layers = nn.ModuleList()\n",
    "\n",
    "        temporal_kernel_size =  [kernel_size, 1, 1]\n",
    "        temporal_padding =  [self.padding, 0, 0]\n",
    "        \n",
    "        out_channels = initial_filter_size\n",
    "        in_channels = channels\n",
    "        for i in range(layer_size):\n",
    "            self.conv_layers.append(\n",
    "                nn.Conv3d(in_channels=in_channels, out_channels=out_channels, \n",
    "                          kernel_size=temporal_kernel_size, padding=temporal_padding, bias=False)\n",
    "            )\n",
    "            self.relu_layers.append(nn.ReLU())\n",
    "            self.batch_layers.append(nn.BatchNorm3d(out_channels))\n",
    "            self.dropout_layers.append(nn.Dropout(dropout_rate))\n",
    "            in_channels = out_channels\n",
    "\n",
    "        padding_final = [kernel_size // 2, 0, 0]\n",
    "        self.conv_final = nn.Conv3d(in_channels=in_channels, out_channels=1, \n",
    "              kernel_size=temporal_kernel_size, padding=padding_final, bias=True)\n",
    "        \n",
    "    def forward(self, x):\n",
    "        for conv, relu, batch, drop in zip(self.conv_layers, self.relu_layers, \n",
    "                                           self.batch_layers, self.dropout_layers):\n",
    "            x = conv(x)[:,:,:-self.padding,:,:]\n",
    "            x = batch(x)\n",
    "            x = relu(x)\n",
    "            x = drop(x)\n",
    "            \n",
    "        out = self.conv_final(x)\n",
    "        return out"
   ]
  },
  {
   "cell_type": "code",
   "execution_count": 14,
   "metadata": {},
   "outputs": [],
   "source": [
    "class STConvS2S(nn.Module):\n",
    "    \n",
    "    def __init__(self, encoder_layer_size, decoder_layer_size, kernel_size, \n",
    "                 filter_size, channels):\n",
    "        super(STConvS2S, self).__init__()\n",
    "        \n",
    "        self.encoder = EncoderSTCNN(layer_size=encoder_layer_size, kernel_size=kernel_size, \n",
    "                                  initial_filter_size=filter_size, channels=channels)\n",
    "        self.decoder = DecoderSTCNN(layer_size=decoder_layer_size, kernel_size=kernel_size, \n",
    "                                  initial_filter_size=filter_size, channels=filter_size)\n",
    "        \n",
    "    def forward(self, x):\n",
    "        out = self.encoder(x)\n",
    "        return self.decoder(out)"
   ]
  },
  {
   "cell_type": "code",
   "execution_count": 15,
   "metadata": {},
   "outputs": [],
   "source": [
    "class RMSELoss(nn.Module):\n",
    "    def __init__(self, eps=1e-6):\n",
    "        super().__init__()\n",
    "        self.mse = nn.MSELoss()\n",
    "        self.eps = eps\n",
    "        \n",
    "    def forward(self,yhat,y):\n",
    "        loss = torch.sqrt(self.mse(yhat,y) + self.eps)\n",
    "        return loss"
   ]
  },
  {
   "cell_type": "code",
   "execution_count": 16,
   "metadata": {
    "pixiedust": {
     "displayParams": {}
    }
   },
   "outputs": [],
   "source": [
    "model = STConvS2S(encoder_layer_size, decoder_layer_size, kernel_size, \n",
    "                 filter_size, channels=train_dataset.X.shape[1]).to(device)\n",
    "criterion = RMSELoss()\n",
    "\n",
    "opt_params = {'lr': lr, \n",
    "              'alpha': 0.9, \n",
    "              'eps': 1e-6}\n",
    "\n",
    "optimizer = torch.optim.RMSprop(model.parameters(), **opt_params)"
   ]
  },
  {
   "cell_type": "markdown",
   "metadata": {},
   "source": [
    "Training the model"
   ]
  },
  {
   "cell_type": "code",
   "execution_count": 17,
   "metadata": {
    "pixiedust": {
     "displayParams": {}
    }
   },
   "outputs": [
    {
     "name": "stdout",
     "output_type": "stream",
     "text": [
      "Train on 8376 samples, validate on 2792 samples\n",
      "Epoch: 1/50 - loss: 6.5596 - val_loss: 6.4800\n",
      "=> Saving a new best\n",
      "Epoch: 2/50 - loss: 6.4508 - val_loss: 6.4708\n",
      "=> Saving a new best\n",
      "Epoch: 3/50 - loss: 6.4393 - val_loss: 6.4538\n",
      "=> Saving a new best\n",
      "Epoch: 4/50 - loss: 6.4313 - val_loss: 6.4674\n",
      "Epoch: 5/50 - loss: 6.4268 - val_loss: 6.4426\n",
      "=> Saving a new best\n",
      "Epoch: 6/50 - loss: 6.4241 - val_loss: 6.4415\n",
      "=> Saving a new best\n",
      "Epoch: 7/50 - loss: 6.4199 - val_loss: 6.4498\n",
      "Epoch: 8/50 - loss: 6.4185 - val_loss: 6.4412\n",
      "=> Saving a new best\n",
      "Epoch: 9/50 - loss: 6.4154 - val_loss: 6.4789\n",
      "Epoch: 10/50 - loss: 6.4130 - val_loss: 6.4355\n",
      "=> Saving a new best\n",
      "Epoch: 11/50 - loss: 6.4112 - val_loss: 6.4325\n",
      "=> Saving a new best\n",
      "Epoch: 12/50 - loss: 6.4109 - val_loss: 6.4255\n",
      "=> Saving a new best\n",
      "Epoch: 13/50 - loss: 6.4081 - val_loss: 6.4354\n",
      "Epoch: 14/50 - loss: 6.4068 - val_loss: 6.4253\n",
      "=> Saving a new best\n",
      "Epoch: 15/50 - loss: 6.4061 - val_loss: 6.4391\n",
      "Epoch: 16/50 - loss: 6.4045 - val_loss: 6.4235\n",
      "=> Saving a new best\n",
      "Epoch: 17/50 - loss: 6.4035 - val_loss: 6.4212\n",
      "=> Saving a new best\n",
      "Epoch: 18/50 - loss: 6.4015 - val_loss: 6.4269\n",
      "Epoch: 19/50 - loss: 6.3991 - val_loss: 6.4215\n",
      "Epoch: 20/50 - loss: 6.3995 - val_loss: 6.4308\n",
      "Epoch: 21/50 - loss: 6.3980 - val_loss: 6.4229\n",
      "Epoch: 22/50 - loss: 6.3981 - val_loss: 6.4187\n",
      "=> Saving a new best\n",
      "Epoch: 23/50 - loss: 6.3978 - val_loss: 6.4240\n",
      "Epoch: 24/50 - loss: 6.3965 - val_loss: 6.4230\n",
      "Epoch: 25/50 - loss: 6.3957 - val_loss: 6.4197\n",
      "Epoch: 26/50 - loss: 6.3960 - val_loss: 6.4178\n",
      "=> Saving a new best\n",
      "Epoch: 27/50 - loss: 6.3952 - val_loss: 6.4165\n",
      "=> Saving a new best\n",
      "Epoch: 28/50 - loss: 6.3933 - val_loss: 6.4314\n",
      "Epoch: 29/50 - loss: 6.3931 - val_loss: 6.4168\n",
      "Epoch: 30/50 - loss: 6.3919 - val_loss: 6.4200\n",
      "Epoch: 31/50 - loss: 6.3935 - val_loss: 6.4170\n",
      "Epoch: 32/50 - loss: 6.3921 - val_loss: 6.4253\n",
      "Epoch: 33/50 - loss: 6.3905 - val_loss: 6.4166\n",
      "Epoch: 34/50 - loss: 6.3919 - val_loss: 6.4157\n",
      "=> Saving a new best\n",
      "Epoch: 35/50 - loss: 6.3904 - val_loss: 6.4215\n",
      "Epoch: 36/50 - loss: 6.3899 - val_loss: 6.4299\n",
      "Epoch: 37/50 - loss: 6.3896 - val_loss: 6.4161\n",
      "Epoch: 38/50 - loss: 6.3882 - val_loss: 6.4165\n",
      "Epoch: 39/50 - loss: 6.3878 - val_loss: 6.4148\n",
      "=> Saving a new best\n",
      "Epoch: 40/50 - loss: 6.3878 - val_loss: 6.4168\n",
      "Epoch: 41/50 - loss: 6.3878 - val_loss: 6.4126\n",
      "=> Saving a new best\n",
      "Epoch: 42/50 - loss: 6.3866 - val_loss: 6.4153\n",
      "Epoch: 43/50 - loss: 6.3865 - val_loss: 6.4205\n",
      "Epoch: 44/50 - loss: 6.3866 - val_loss: 6.4138\n",
      "Epoch: 45/50 - loss: 6.3859 - val_loss: 6.4187\n",
      "Epoch: 46/50 - loss: 6.3871 - val_loss: 6.4128\n",
      "Epoch: 47/50 - loss: 6.3857 - val_loss: 6.4135\n",
      "Epoch: 48/50 - loss: 6.3862 - val_loss: 6.4162\n",
      "Epoch: 49/50 - loss: 6.3861 - val_loss: 6.4250\n",
      "Epoch: 50/50 - loss: 6.3849 - val_loss: 6.4131\n",
      "CPU times: user 15min 54s, sys: 4min 46s, total: 20min 41s\n",
      "Wall time: 51min 46s\n"
     ]
    }
   ],
   "source": [
    "%%time\n",
    "checkpoint_filename = util.get_checkpoint_filename()\n",
    "\n",
    "print('Train on {} samples, validate on {} samples'.format(len(train_dataset), len(val_dataset)))\n",
    "\n",
    "trainer = Trainer(model, criterion, optimizer, train_loader, val_loader, epochs, \n",
    "                          device, verbose=True, patience=None, no_stop=True)\n",
    "\n",
    "train_losses, val_losses = trainer.fit(checkpoint_filename)"
   ]
  },
  {
   "cell_type": "code",
   "execution_count": 18,
   "metadata": {},
   "outputs": [
    {
     "data": {
      "image/png": "[encoded data removed]",
      "text/plain": [
       "<Figure size 1080x576 with 1 Axes>"
      ]
     },
     "metadata": {
      "needs_background": "light"
     },
     "output_type": "display_data"
    }
   ],
   "source": [
    "util.save_loss(train_losses, val_losses)\n",
    "util.plot([train_losses, val_losses], ['Training', 'Validation'], \n",
    "          'Epochs', 'Error', 'Error analysis', inline=True)"
   ]
  },
  {
   "cell_type": "code",
   "execution_count": 19,
   "metadata": {},
   "outputs": [
    {
     "name": "stdout",
     "output_type": "stream",
     "text": [
      "=> Loaded checkpoint chirps_3_20190928-011607.pth.tar (best epoch: 41, validation error: 6.4126)\n"
     ]
    }
   ],
   "source": [
    "model,_, best_epoch, val_loss = trainer.load_checkpoint(checkpoint_filename)"
   ]
  },
  {
   "cell_type": "markdown",
   "metadata": {},
   "source": [
    "Evaluating the model"
   ]
  },
  {
   "cell_type": "code",
   "execution_count": 20,
   "metadata": {},
   "outputs": [
    {
     "name": "stdout",
     "output_type": "stream",
     "text": [
      "STConvS2S RMSELoss: 6.3784\n"
     ]
    }
   ],
   "source": [
    "evaluator = Evaluator(model, criterion, test_loader, device)\n",
    "test_loss = evaluator.eval()\n",
    "loss_type = type(criterion).__name__\n",
    "print(f'STConvS2S {loss_type}: {test_loss:.4f}')"
   ]
  },
  {
   "cell_type": "code",
   "execution_count": 21,
   "metadata": {},
   "outputs": [],
   "source": [
    "if (torch.cuda.is_available()):\n",
    "    torch.cuda.empty_cache()"
   ]
  },
  {
   "cell_type": "markdown",
   "metadata": {},
   "source": [
    "Notification via email"
   ]
  },
  {
   "cell_type": "code",
   "execution_count": 23,
   "metadata": {},
   "outputs": [],
   "source": [
    "model_info = {'Jupyter': 'yes',\n",
    "              'best_epoch': best_epoch,\n",
    "              'val_error': val_loss,\n",
    "              'test_error': test_loss,\n",
    "              'loss_type': loss_type,\n",
    "              'step': step,\n",
    "              'e_layer': encoder_layer_size,\n",
    "              'e_kernel_size': kernel_size,\n",
    "              'e_filter': filter_size,\n",
    "              'd_layer': decoder_layer_size,\n",
    "              'd_kernel_size': kernel_size,\n",
    "              'd_filter': filter_size,\n",
    "              'dropout_rate': dropout_rate,\n",
    "              'dataset': dataset,\n",
    "              'hostname': platform.node()}"
   ]
  },
  {
   "cell_type": "code",
   "execution_count": 24,
   "metadata": {},
   "outputs": [
    {
     "name": "stdout",
     "output_type": "stream",
     "text": [
      "3121.5579402446747\n",
      "email sent\n"
     ]
    }
   ],
   "source": [
    "util.send_email(model_info)"
   ]
  }
 ],
 "metadata": {
  "kernelspec": {
   "display_name": "pytorch",
   "language": "python",
   "name": "pytorch"
  },
  "language_info": {
   "codemirror_mode": {
    "name": "ipython",
    "version": 3
   },
   "file_extension": ".py",
   "mimetype": "text/x-python",
   "name": "python",
   "nbconvert_exporter": "python",
   "pygments_lexer": "ipython3",
   "version": "3.6.7"
  }
 },
 "nbformat": 4,
 "nbformat_minor": 2
}
