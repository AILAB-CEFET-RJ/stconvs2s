{
 "cells": [
  {
   "cell_type": "code",
   "execution_count": 1,
   "metadata": {},
   "outputs": [],
   "source": [
    "import sys\n",
    "sys.path.append('..')\n",
    "import warnings\n",
    "warnings.filterwarnings('ignore')"
   ]
  },
  {
   "cell_type": "code",
   "execution_count": 2,
   "metadata": {},
   "outputs": [],
   "source": [
    "import os\n",
    "import numpy as np\n",
    "import xarray as xr\n",
    "import random as rd\n",
    "import platform\n",
    "%matplotlib inline\n",
    "\n",
    "from model.convlstm import ConvLSTM\n",
    "from tool.train_evaluate import Trainer, Evaluator\n",
    "from tool.dataset import NetCDFDataset\n",
    "from tool.utils import Util\n",
    "\n",
    "import torch\n",
    "import torch.nn as nn\n",
    "from torch.utils.data import Dataset, DataLoader\n",
    "from torch import optim"
   ]
  },
  {
   "cell_type": "markdown",
   "metadata": {},
   "source": [
    "Load specific variables for each dataset"
   ]
  },
  {
   "cell_type": "code",
   "execution_count": 3,
   "metadata": {},
   "outputs": [
    {
     "name": "stdout",
     "output_type": "stream",
     "text": [
      "version = 4\n",
      "dataset = ../data/dataset-ucar-1979-2015-seq5-ystep5.nc\n",
      "input_size = 32\n",
      "step = 5\n",
      "learning rate = 0.001\n",
      "param = {'layer_size': 3, 'kernel_size': 5, 'hidden_dim': 32}\n"
     ]
    }
   ],
   "source": [
    "%run dataset-variables.py"
   ]
  },
  {
   "cell_type": "code",
   "execution_count": 4,
   "metadata": {},
   "outputs": [
    {
     "data": {
      "text/plain": [
       "device(type='cuda', index=0)"
      ]
     },
     "execution_count": 4,
     "metadata": {},
     "output_type": "execute_result"
    }
   ],
   "source": [
    "util = Util('ConvLSTM', version=version, dataset=dataset)\n",
    "\n",
    "os.environ[\"CUDA_VISIBLE_DEVICES\"]='0'\n",
    "device = torch.device('cuda:0' if torch.cuda.is_available() else 'cpu')\n",
    "device"
   ]
  },
  {
   "cell_type": "markdown",
   "metadata": {},
   "source": [
    "Seed"
   ]
  },
  {
   "cell_type": "code",
   "execution_count": 5,
   "metadata": {},
   "outputs": [],
   "source": [
    "seed = 1000\n",
    "np.random.seed(seed)\n",
    "rd.seed(seed)\n",
    "torch.manual_seed(seed)\n",
    "torch.cuda.manual_seed(seed)\n",
    "torch.backends.cudnn.deterministic=True"
   ]
  },
  {
   "cell_type": "code",
   "execution_count": 6,
   "metadata": {},
   "outputs": [],
   "source": [
    "def init_seed(seed):\n",
    "    np.random.seed(seed)"
   ]
  },
  {
   "cell_type": "markdown",
   "metadata": {},
   "source": [
    "Hyperparameters"
   ]
  },
  {
   "cell_type": "code",
   "execution_count": 7,
   "metadata": {},
   "outputs": [],
   "source": [
    "epochs = 50\n",
    "batch_size = 50\n",
    "validation_split = 0.2\n",
    "test_split = 0.2\n",
    "layer_size = param['layer_size']\n",
    "kernel_size = param['kernel_size']\n",
    "hidden_dim = param['hidden_dim']"
   ]
  },
  {
   "cell_type": "markdown",
   "metadata": {},
   "source": [
    "Loading the dataset"
   ]
  },
  {
   "cell_type": "code",
   "execution_count": 8,
   "metadata": {},
   "outputs": [],
   "source": [
    "ds = xr.open_mfdataset(dataset_file)\n",
    "#ds = ds[dict(sample=slice(0,500))]"
   ]
  },
  {
   "cell_type": "code",
   "execution_count": 9,
   "metadata": {},
   "outputs": [],
   "source": [
    "train_dataset = NetCDFDataset(ds, test_split=test_split, validation_split=validation_split)\n",
    "val_dataset = NetCDFDataset(ds, test_split=test_split, validation_split=validation_split, is_validation=True)\n",
    "test_dataset = NetCDFDataset(ds, test_split=test_split, validation_split=validation_split, is_test=True)"
   ]
  },
  {
   "cell_type": "code",
   "execution_count": 10,
   "metadata": {},
   "outputs": [
    {
     "name": "stdout",
     "output_type": "stream",
     "text": [
      "[X_train] Shape: torch.Size([32427, 1, 5, 32, 32])\n",
      "[y_train] Shape: torch.Size([32427, 1, 5, 32, 32])\n",
      "[X_val] Shape: torch.Size([10810, 1, 5, 32, 32])\n",
      "[y_val] Shape: torch.Size([10810, 1, 5, 32, 32])\n",
      "[X_test] Shape: torch.Size([10810, 1, 5, 32, 32])\n",
      "[y_test] Shape: torch.Size([10810, 1, 5, 32, 32])\n"
     ]
    }
   ],
   "source": [
    "print('[X_train] Shape:', train_dataset.X.shape)\n",
    "print('[y_train] Shape:', train_dataset.y.shape)\n",
    "print('[X_val] Shape:', val_dataset.X.shape)\n",
    "print('[y_val] Shape:', val_dataset.y.shape)\n",
    "print('[X_test] Shape:', test_dataset.X.shape)\n",
    "print('[y_test] Shape:', test_dataset.y.shape)"
   ]
  },
  {
   "cell_type": "code",
   "execution_count": 11,
   "metadata": {},
   "outputs": [],
   "source": [
    "params = {'batch_size': batch_size,\n",
    "          'num_workers': 4, \n",
    "          'worker_init_fn': init_seed}\n",
    "\n",
    "train_loader = DataLoader(dataset=train_dataset, shuffle=True, **params)\n",
    "val_loader = DataLoader(dataset=val_dataset, shuffle=False, **params)\n",
    "test_loader = DataLoader(dataset=test_dataset, shuffle=False, **params)"
   ]
  },
  {
   "cell_type": "markdown",
   "metadata": {},
   "source": [
    "Creating the model"
   ]
  },
  {
   "cell_type": "code",
   "execution_count": 12,
   "metadata": {
    "pixiedust": {
     "displayParams": {}
    }
   },
   "outputs": [],
   "source": [
    "class STConvLSTM(nn.Module):\n",
    "    def __init__(self, input_size, layer_size, kernel_size, hidden_dim):\n",
    "        super(STConvLSTM, self).__init__()\n",
    "        \n",
    "        self.convlstm_layer = nn.ModuleList()\n",
    "        self.relu_layers = nn.ModuleList()\n",
    "        self.batch_layers = nn.ModuleList()\n",
    "\n",
    "        input_dim = 1\n",
    "        for i in range(layer_size):\n",
    "            self.convlstm_layer.append(\n",
    "                ConvLSTM(input_size=(input_size,input_size), input_dim=input_dim, \n",
    "                        hidden_dim=hidden_dim, kernel_size=(kernel_size,kernel_size), num_layers=1, \n",
    "                        bias=False, return_all_layers=True, batch_first=True)\n",
    "            )\n",
    "            input_dim = hidden_dim\n",
    "            self.relu_layers.append(nn.ReLU())\n",
    "            self.batch_layers.append(nn.BatchNorm3d(num_features=hidden_dim))\n",
    "        \n",
    "        self.conv_layer = nn.Conv3d(in_channels=hidden_dim, out_channels=1, \n",
    "                                    kernel_size=(1,1,1), padding=0)\n",
    "        \n",
    "    def forward(self, x):\n",
    "        for convlstm, relu, batch in zip(self.convlstm_layer, self.relu_layers, self.batch_layers):\n",
    "            x, hidden = convlstm(x)\n",
    "            x = batch(x[0])\n",
    "            x = relu(x)\n",
    "            \n",
    "        out = self.conv_layer(x)\n",
    "        return out"
   ]
  },
  {
   "cell_type": "code",
   "execution_count": 13,
   "metadata": {},
   "outputs": [],
   "source": [
    "class RMSELoss(nn.Module):\n",
    "    def __init__(self, eps=1e-6):\n",
    "        super().__init__()\n",
    "        self.mse = nn.MSELoss()\n",
    "        self.eps = eps\n",
    "        \n",
    "    def forward(self,yhat,y):\n",
    "        loss = torch.sqrt(self.mse(yhat,y) + self.eps)\n",
    "        return loss"
   ]
  },
  {
   "cell_type": "code",
   "execution_count": 14,
   "metadata": {
    "pixiedust": {
     "displayParams": {}
    }
   },
   "outputs": [],
   "source": [
    "model = STConvLSTM(input_size, layer_size, kernel_size, hidden_dim).to(device)\n",
    "\n",
    "criterion = RMSELoss()\n",
    "optimizer = torch.optim.RMSprop(model.parameters(), lr=0.001, alpha=0.9, eps=1e-6)"
   ]
  },
  {
   "cell_type": "markdown",
   "metadata": {},
   "source": [
    "Training the model"
   ]
  },
  {
   "cell_type": "code",
   "execution_count": 15,
   "metadata": {
    "pixiedust": {
     "displayParams": {}
    }
   },
   "outputs": [
    {
     "name": "stdout",
     "output_type": "stream",
     "text": [
      "Train on 32427 samples, validate on 10810 samples\n",
      "Epoch: 1/50 - loss: 13.3059 - val_loss: 2.8052\n",
      "=> Saving a new best\n",
      "Epoch: 2/50 - loss: 2.2492 - val_loss: 2.2987\n",
      "=> Saving a new best\n",
      "Epoch: 3/50 - loss: 2.0802 - val_loss: 2.7296\n",
      "Epoch: 4/50 - loss: 2.0121 - val_loss: 2.4180\n",
      "Epoch: 5/50 - loss: 1.9699 - val_loss: 2.0635\n",
      "=> Saving a new best\n",
      "Epoch: 6/50 - loss: 1.9385 - val_loss: 2.1938\n",
      "Epoch: 7/50 - loss: 1.9148 - val_loss: 1.9069\n",
      "=> Saving a new best\n",
      "Epoch: 8/50 - loss: 1.8968 - val_loss: 2.2008\n",
      "Epoch: 9/50 - loss: 1.8813 - val_loss: 2.1373\n",
      "Epoch: 10/50 - loss: 1.8687 - val_loss: 2.2324\n",
      "Epoch: 11/50 - loss: 1.8593 - val_loss: 2.1296\n",
      "Epoch: 12/50 - loss: 1.8479 - val_loss: 2.2799\n",
      "Epoch: 13/50 - loss: 1.8397 - val_loss: 2.0433\n",
      "Epoch: 14/50 - loss: 1.8306 - val_loss: 2.0482\n",
      "Epoch: 15/50 - loss: 1.8230 - val_loss: 1.9857\n",
      "Epoch: 16/50 - loss: 1.8170 - val_loss: 2.6156\n",
      "Epoch: 17/50 - loss: 1.8108 - val_loss: 1.9441\n",
      "Epoch: 18/50 - loss: 1.8066 - val_loss: 2.0980\n",
      "Epoch: 19/50 - loss: 1.8000 - val_loss: 2.1894\n",
      "Epoch: 20/50 - loss: 1.7952 - val_loss: 2.4333\n",
      "Epoch: 21/50 - loss: 1.7908 - val_loss: 2.1947\n",
      "Epoch: 22/50 - loss: 1.7877 - val_loss: 1.9799\n",
      "Epoch: 23/50 - loss: 1.7825 - val_loss: 1.9585\n",
      "Epoch: 24/50 - loss: 1.7787 - val_loss: 2.0411\n",
      "Epoch: 25/50 - loss: 1.7764 - val_loss: 2.6024\n",
      "Epoch: 26/50 - loss: 1.7719 - val_loss: 2.6016\n",
      "Epoch: 27/50 - loss: 1.7694 - val_loss: 2.9697\n",
      "Epoch: 28/50 - loss: 1.7659 - val_loss: 2.1526\n",
      "Epoch: 29/50 - loss: 1.7627 - val_loss: 2.0616\n",
      "Epoch: 30/50 - loss: 1.7607 - val_loss: 2.0147\n",
      "Epoch: 31/50 - loss: 1.7584 - val_loss: 2.0972\n",
      "Epoch: 32/50 - loss: 1.7546 - val_loss: 2.1384\n",
      "Epoch: 33/50 - loss: 1.7518 - val_loss: 2.0818\n",
      "Epoch: 34/50 - loss: 1.7506 - val_loss: 1.9321\n",
      "Epoch: 35/50 - loss: 1.7473 - val_loss: 2.1350\n",
      "Epoch: 36/50 - loss: 1.7463 - val_loss: 2.1487\n",
      "Epoch: 37/50 - loss: 1.7440 - val_loss: 1.9439\n",
      "Epoch: 38/50 - loss: 1.7417 - val_loss: 2.2251\n",
      "Epoch: 39/50 - loss: 1.7387 - val_loss: 2.0520\n",
      "Epoch: 40/50 - loss: 1.7369 - val_loss: 2.3212\n",
      "Epoch: 41/50 - loss: 1.7347 - val_loss: 1.9423\n",
      "Epoch: 42/50 - loss: 1.7323 - val_loss: 2.0923\n",
      "Epoch: 43/50 - loss: 1.7311 - val_loss: 1.9499\n",
      "Epoch: 44/50 - loss: 1.7303 - val_loss: 1.9917\n",
      "Epoch: 45/50 - loss: 1.7264 - val_loss: 2.0954\n",
      "Epoch: 46/50 - loss: 1.7264 - val_loss: 1.8892\n",
      "=> Saving a new best\n",
      "Epoch: 47/50 - loss: 1.7241 - val_loss: 1.9145\n",
      "Epoch: 48/50 - loss: 1.7229 - val_loss: 1.8720\n",
      "=> Saving a new best\n",
      "Epoch: 49/50 - loss: 1.7212 - val_loss: 2.0326\n",
      "Epoch: 50/50 - loss: 1.7202 - val_loss: 1.9441\n",
      "CPU times: user 6h 56min 57s, sys: 31min 38s, total: 7h 28min 35s\n",
      "Wall time: 1h 52min 19s\n"
     ]
    }
   ],
   "source": [
    "%%time\n",
    "checkpoint_filename = util.get_checkpoint_filename()\n",
    "\n",
    "print('Train on {} samples, validate on {} samples'.format(len(train_dataset), len(val_dataset)))\n",
    "\n",
    "trainer = Trainer(model, criterion, optimizer, train_loader, val_loader, epochs, \n",
    "                          device, verbose=True, patience=None, no_stop=True)\n",
    "\n",
    "train_losses, val_losses = trainer.fit(checkpoint_filename)"
   ]
  },
  {
   "cell_type": "code",
   "execution_count": 16,
   "metadata": {},
   "outputs": [
    {
     "data": {
      "image/png": "[encoded data removed]",
      "text/plain": [
       "<Figure size 1080x576 with 1 Axes>"
      ]
     },
     "metadata": {
      "needs_background": "light"
     },
     "output_type": "display_data"
    }
   ],
   "source": [
    "util.save_loss(train_losses, val_losses)\n",
    "util.plot([train_losses, val_losses], ['Training', 'Validation'], \n",
    "          'Epochs', 'Error', 'Error analysis', inline=True)"
   ]
  },
  {
   "cell_type": "code",
   "execution_count": 17,
   "metadata": {},
   "outputs": [
    {
     "name": "stdout",
     "output_type": "stream",
     "text": [
      "=> Loaded checkpoint cfsr_4_20190930-025417.pth.tar (best epoch: 48, validation error: 1.8720)\n"
     ]
    }
   ],
   "source": [
    "model,_, best_epoch, val_loss = trainer.load_checkpoint(checkpoint_filename)"
   ]
  },
  {
   "cell_type": "markdown",
   "metadata": {},
   "source": [
    "Evaluating the model"
   ]
  },
  {
   "cell_type": "code",
   "execution_count": 18,
   "metadata": {},
   "outputs": [
    {
     "name": "stdout",
     "output_type": "stream",
     "text": [
      "ConvLSTM RMSELoss: 1.8695\n"
     ]
    }
   ],
   "source": [
    "evaluator = Evaluator(model, criterion, test_loader, device)\n",
    "test_loss = evaluator.eval()\n",
    "loss_type = type(criterion).__name__\n",
    "print(f'ConvLSTM {loss_type}: {test_loss:.4f}')"
   ]
  },
  {
   "cell_type": "code",
   "execution_count": 19,
   "metadata": {},
   "outputs": [],
   "source": [
    "if (torch.cuda.is_available()):\n",
    "    torch.cuda.empty_cache()"
   ]
  },
  {
   "cell_type": "markdown",
   "metadata": {},
   "source": [
    "Notification via email"
   ]
  },
  {
   "cell_type": "code",
   "execution_count": 21,
   "metadata": {},
   "outputs": [],
   "source": [
    "model_info = {'Jupyter': 'yes',\n",
    "              'best_epoch': best_epoch,\n",
    "              'val_error': val_loss,\n",
    "              'test_error': test_loss,\n",
    "              'loss_type': loss_type,\n",
    "              'step': step,\n",
    "              'layer': layer_size,\n",
    "              'kernel_size': kernel_size,\n",
    "              'filter': hidden_dim,\n",
    "              'dataset': dataset,\n",
    "              'hostname': platform.node()}"
   ]
  },
  {
   "cell_type": "code",
   "execution_count": 22,
   "metadata": {},
   "outputs": [
    {
     "name": "stdout",
     "output_type": "stream",
     "text": [
      "6756.9749257564545\n",
      "email sent\n"
     ]
    }
   ],
   "source": [
    "util.send_email(model_info)"
   ]
  }
 ],
 "metadata": {
  "kernelspec": {
   "display_name": "pytorch",
   "language": "python",
   "name": "pytorch"
  },
  "language_info": {
   "codemirror_mode": {
    "name": "ipython",
    "version": 3
   },
   "file_extension": ".py",
   "mimetype": "text/x-python",
   "name": "python",
   "nbconvert_exporter": "python",
   "pygments_lexer": "ipython3",
   "version": "3.6.7"
  }
 },
 "nbformat": 4,
 "nbformat_minor": 2
}
