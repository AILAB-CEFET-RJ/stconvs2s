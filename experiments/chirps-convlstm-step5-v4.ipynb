{
 "cells": [
  {
   "cell_type": "code",
   "execution_count": 1,
   "metadata": {},
   "outputs": [],
   "source": [
    "import sys\n",
    "sys.path.append('..')\n",
    "import warnings\n",
    "warnings.filterwarnings('ignore')"
   ]
  },
  {
   "cell_type": "code",
   "execution_count": 2,
   "metadata": {},
   "outputs": [],
   "source": [
    "import os\n",
    "import numpy as np\n",
    "import xarray as xr\n",
    "import random as rd\n",
    "import platform\n",
    "%matplotlib inline\n",
    "\n",
    "from model.convlstm import ConvLSTM\n",
    "from tool.train_evaluate import Trainer, Evaluator\n",
    "from tool.dataset import NetCDFDataset\n",
    "from tool.utils import Util\n",
    "\n",
    "import torch\n",
    "import torch.nn as nn\n",
    "from torch.utils.data import Dataset, DataLoader\n",
    "from torch import optim"
   ]
  },
  {
   "cell_type": "markdown",
   "metadata": {},
   "source": [
    "Load specific variables for each dataset"
   ]
  },
  {
   "cell_type": "code",
   "execution_count": 3,
   "metadata": {},
   "outputs": [
    {
     "name": "stdout",
     "output_type": "stream",
     "text": [
      "version = 4\n",
      "dataset = ../data/dataset-chirps-1981-2019-seq5-ystep5.nc\n",
      "input_size = 50\n",
      "step = 5\n",
      "dropout rate = 0.8\n",
      "learning rate = 0.001\n",
      "upsample = False\n",
      "upsample mode = None\n",
      "param = {'layer_size': 3, 'kernel_size': 5, 'hidden_dim': 32}\n"
     ]
    }
   ],
   "source": [
    "%run dataset-variables.py"
   ]
  },
  {
   "cell_type": "code",
   "execution_count": 4,
   "metadata": {},
   "outputs": [
    {
     "data": {
      "text/plain": [
       "device(type='cuda', index=0)"
      ]
     },
     "execution_count": 4,
     "metadata": {},
     "output_type": "execute_result"
    }
   ],
   "source": [
    "util = Util('ConvLSTM', version=version, prefix=dataset)\n",
    "\n",
    "os.environ[\"CUDA_VISIBLE_DEVICES\"]='0'\n",
    "device = torch.device('cuda:0' if torch.cuda.is_available() else 'cpu')\n",
    "device"
   ]
  },
  {
   "cell_type": "markdown",
   "metadata": {},
   "source": [
    "Seed"
   ]
  },
  {
   "cell_type": "code",
   "execution_count": 5,
   "metadata": {},
   "outputs": [],
   "source": [
    "seed = 1000\n",
    "np.random.seed(seed)\n",
    "rd.seed(seed)\n",
    "torch.manual_seed(seed)\n",
    "torch.cuda.manual_seed(seed)\n",
    "torch.backends.cudnn.deterministic=True"
   ]
  },
  {
   "cell_type": "code",
   "execution_count": 6,
   "metadata": {},
   "outputs": [],
   "source": [
    "def init_seed(seed):\n",
    "    np.random.seed(seed)"
   ]
  },
  {
   "cell_type": "markdown",
   "metadata": {},
   "source": [
    "Hyperparameters"
   ]
  },
  {
   "cell_type": "code",
   "execution_count": 7,
   "metadata": {},
   "outputs": [],
   "source": [
    "epochs = 50\n",
    "batch_size = 50\n",
    "validation_split = 0.2\n",
    "test_split = 0.2\n",
    "layer_size = param['layer_size']\n",
    "kernel_size = param['kernel_size']\n",
    "hidden_dim = param['hidden_dim']"
   ]
  },
  {
   "cell_type": "markdown",
   "metadata": {},
   "source": [
    "Loading the dataset"
   ]
  },
  {
   "cell_type": "code",
   "execution_count": 8,
   "metadata": {},
   "outputs": [],
   "source": [
    "ds = xr.open_mfdataset(dataset_file)\n",
    "#ds = ds[dict(sample=slice(0,500))]"
   ]
  },
  {
   "cell_type": "code",
   "execution_count": 9,
   "metadata": {},
   "outputs": [],
   "source": [
    "train_dataset = NetCDFDataset(ds, test_split=test_split, validation_split=validation_split)\n",
    "val_dataset = NetCDFDataset(ds, test_split=test_split, validation_split=validation_split, is_validation=True)\n",
    "test_dataset = NetCDFDataset(ds, test_split=test_split, validation_split=validation_split, is_test=True)"
   ]
  },
  {
   "cell_type": "code",
   "execution_count": 10,
   "metadata": {},
   "outputs": [
    {
     "name": "stdout",
     "output_type": "stream",
     "text": [
      "[X_train] Shape: torch.Size([8376, 1, 5, 50, 50])\n",
      "[y_train] Shape: torch.Size([8376, 1, 5, 50, 50])\n",
      "[X_val] Shape: torch.Size([2792, 1, 5, 50, 50])\n",
      "[y_val] Shape: torch.Size([2792, 1, 5, 50, 50])\n",
      "[X_test] Shape: torch.Size([2792, 1, 5, 50, 50])\n",
      "[y_test] Shape: torch.Size([2792, 1, 5, 50, 50])\n"
     ]
    }
   ],
   "source": [
    "print('[X_train] Shape:', train_dataset.X.shape)\n",
    "print('[y_train] Shape:', train_dataset.y.shape)\n",
    "print('[X_val] Shape:', val_dataset.X.shape)\n",
    "print('[y_val] Shape:', val_dataset.y.shape)\n",
    "print('[X_test] Shape:', test_dataset.X.shape)\n",
    "print('[y_test] Shape:', test_dataset.y.shape)"
   ]
  },
  {
   "cell_type": "code",
   "execution_count": 11,
   "metadata": {},
   "outputs": [],
   "source": [
    "params = {'batch_size': batch_size,\n",
    "          'num_workers': 4, \n",
    "          'worker_init_fn': init_seed}\n",
    "\n",
    "train_loader = DataLoader(dataset=train_dataset, shuffle=True, **params)\n",
    "val_loader = DataLoader(dataset=val_dataset, shuffle=False, **params)\n",
    "test_loader = DataLoader(dataset=test_dataset, shuffle=False, **params)"
   ]
  },
  {
   "cell_type": "markdown",
   "metadata": {},
   "source": [
    "Creating the model"
   ]
  },
  {
   "cell_type": "code",
   "execution_count": 12,
   "metadata": {
    "pixiedust": {
     "displayParams": {}
    }
   },
   "outputs": [],
   "source": [
    "class STConvLSTM(nn.Module):\n",
    "    def __init__(self, input_size, layer_size, kernel_size, hidden_dim, dropout_rate):\n",
    "        \n",
    "        super(STConvLSTM, self).__init__()\n",
    "        self.dropout_rate = dropout_rate\n",
    "        self.convlstm_layers = nn.ModuleList()\n",
    "        self.relu_layers = nn.ModuleList()\n",
    "        self.batch_layers = nn.ModuleList()\n",
    "        self.dropout_layers = nn.ModuleList()\n",
    "        \n",
    "        input_dim = 1\n",
    "        for i in range(layer_size):\n",
    "            self.convlstm_layers.append(\n",
    "                ConvLSTM(input_size=(input_size,input_size), input_dim=input_dim, \n",
    "                        hidden_dim=hidden_dim, kernel_size=(kernel_size,kernel_size), num_layers=1, \n",
    "                        bias=False, return_all_layers=True, batch_first=True)\n",
    "            )\n",
    "            input_dim = hidden_dim\n",
    "            self.relu_layers.append(nn.ReLU())\n",
    "            self.batch_layers.append(nn.BatchNorm3d(num_features=hidden_dim))\n",
    "            self.dropout_layers.append(nn.Dropout(dropout_rate))\n",
    "        \n",
    "        self.conv_layer = nn.Conv3d(in_channels=hidden_dim, out_channels=1, \n",
    "                                    kernel_size=(1,1,1), padding=0)\n",
    "        \n",
    "    def learning_with_dropout(self, x):\n",
    "        for convlstm, relu, batch, drop in zip(self.convlstm_layers, self.relu_layers, \n",
    "                                           self.batch_layers, self.dropout_layers):\n",
    "            x, hidden = convlstm(x)\n",
    "            x = drop(relu(batch(x[0])))\n",
    "            \n",
    "        return x\n",
    "    \n",
    "    def learning_without_dropout(self, x):\n",
    "        for convlstm, relu, batch in zip(self.convlstm_layers, self.relu_layers, self.batch_layers):\n",
    "            x, hidden = convlstm(x)\n",
    "            x = relu(batch(x[0]))\n",
    "            \n",
    "        return x\n",
    "        \n",
    "    def forward(self, input_):\n",
    "        if self.dropout_rate > 0.:\n",
    "            output = self.learning_with_dropout(input_)\n",
    "        else:\n",
    "            output = self.learning_without_dropout(input_)\n",
    "        \n",
    "        return self.conv_layer(output)"
   ]
  },
  {
   "cell_type": "code",
   "execution_count": 13,
   "metadata": {},
   "outputs": [],
   "source": [
    "class RMSELoss(nn.Module):\n",
    "    def __init__(self, eps=1e-6):\n",
    "        super().__init__()\n",
    "        self.mse = nn.MSELoss()\n",
    "        self.eps = eps\n",
    "        \n",
    "    def forward(self,yhat,y):\n",
    "        loss = torch.sqrt(self.mse(yhat,y) + self.eps)\n",
    "        return loss"
   ]
  },
  {
   "cell_type": "code",
   "execution_count": 14,
   "metadata": {
    "pixiedust": {
     "displayParams": {}
    }
   },
   "outputs": [],
   "source": [
    "model = STConvLSTM(input_size, layer_size, kernel_size, hidden_dim, dropout_rate).to(device)\n",
    "\n",
    "criterion = RMSELoss()\n",
    "optimizer = torch.optim.RMSprop(model.parameters(), lr=lr, alpha=0.9, eps=1e-6)"
   ]
  },
  {
   "cell_type": "markdown",
   "metadata": {},
   "source": [
    "Training the model"
   ]
  },
  {
   "cell_type": "code",
   "execution_count": 15,
   "metadata": {
    "pixiedust": {
     "displayParams": {}
    }
   },
   "outputs": [
    {
     "name": "stdout",
     "output_type": "stream",
     "text": [
      "Train on 8376 samples, validate on 2792 samples\n",
      "Epoch: 1/50 - loss: 6.8966 - val_loss: 6.5465\n",
      "=> Saving a new best\n",
      "Epoch: 2/50 - loss: 6.6299 - val_loss: 6.5019\n",
      "=> Saving a new best\n",
      "Epoch: 3/50 - loss: 6.5951 - val_loss: 6.4462\n",
      "=> Saving a new best\n",
      "Epoch: 4/50 - loss: 6.5748 - val_loss: 6.5109\n",
      "Epoch: 5/50 - loss: 6.5641 - val_loss: 6.4407\n",
      "=> Saving a new best\n",
      "Epoch: 6/50 - loss: 6.5553 - val_loss: 6.4461\n",
      "Epoch: 7/50 - loss: 6.5466 - val_loss: 6.5081\n",
      "Epoch: 8/50 - loss: 6.5427 - val_loss: 6.5325\n",
      "Epoch: 9/50 - loss: 6.5365 - val_loss: 6.4364\n",
      "=> Saving a new best\n",
      "Epoch: 10/50 - loss: 6.5353 - val_loss: 6.4326\n",
      "=> Saving a new best\n",
      "Epoch: 11/50 - loss: 6.5316 - val_loss: 6.4393\n",
      "Epoch: 12/50 - loss: 6.5291 - val_loss: 6.4340\n",
      "Epoch: 13/50 - loss: 6.5282 - val_loss: 6.4383\n",
      "Epoch: 14/50 - loss: 6.5244 - val_loss: 6.4437\n",
      "Epoch: 15/50 - loss: 6.5233 - val_loss: 6.4551\n",
      "Epoch: 16/50 - loss: 6.5225 - val_loss: 6.4204\n",
      "=> Saving a new best\n",
      "Epoch: 17/50 - loss: 6.5199 - val_loss: 6.4246\n",
      "Epoch: 18/50 - loss: 6.5191 - val_loss: 6.4259\n",
      "Epoch: 19/50 - loss: 6.5175 - val_loss: 6.4390\n",
      "Epoch: 20/50 - loss: 6.5168 - val_loss: 6.4359\n",
      "Epoch: 21/50 - loss: 6.5143 - val_loss: 6.4575\n",
      "Epoch: 22/50 - loss: 6.5135 - val_loss: 6.4164\n",
      "=> Saving a new best\n",
      "Epoch: 23/50 - loss: 6.5125 - val_loss: 6.4100\n",
      "=> Saving a new best\n",
      "Epoch: 24/50 - loss: 6.5117 - val_loss: 6.4080\n",
      "=> Saving a new best\n",
      "Epoch: 25/50 - loss: 6.5084 - val_loss: 6.4440\n",
      "Epoch: 26/50 - loss: 6.5083 - val_loss: 6.4217\n",
      "Epoch: 27/50 - loss: 6.5063 - val_loss: 6.4235\n",
      "Epoch: 28/50 - loss: 6.5055 - val_loss: 6.4142\n",
      "Epoch: 29/50 - loss: 6.5032 - val_loss: 6.4259\n",
      "Epoch: 30/50 - loss: 6.5037 - val_loss: 6.4432\n",
      "Epoch: 31/50 - loss: 6.5006 - val_loss: 6.4203\n",
      "Epoch: 32/50 - loss: 6.4982 - val_loss: 6.4164\n",
      "Epoch: 33/50 - loss: 6.4977 - val_loss: 6.4095\n",
      "Epoch: 34/50 - loss: 6.4968 - val_loss: 6.4113\n",
      "Epoch: 35/50 - loss: 6.4953 - val_loss: 6.4426\n",
      "Epoch: 36/50 - loss: 6.4924 - val_loss: 6.4462\n",
      "Epoch: 37/50 - loss: 6.4904 - val_loss: 6.4893\n",
      "Epoch: 38/50 - loss: 6.4906 - val_loss: 6.4210\n",
      "Epoch: 39/50 - loss: 6.4879 - val_loss: 6.4396\n",
      "Epoch: 40/50 - loss: 6.4870 - val_loss: 6.4889\n",
      "Epoch: 41/50 - loss: 6.4865 - val_loss: 6.4596\n",
      "Epoch: 42/50 - loss: 6.4839 - val_loss: 6.4171\n",
      "Epoch: 43/50 - loss: 6.4826 - val_loss: 6.4540\n",
      "Epoch: 44/50 - loss: 6.4811 - val_loss: 6.4179\n",
      "Epoch: 45/50 - loss: 6.4803 - val_loss: 6.4605\n",
      "Epoch: 46/50 - loss: 6.4782 - val_loss: 6.4253\n",
      "Epoch: 47/50 - loss: 6.4778 - val_loss: 6.4309\n",
      "Epoch: 48/50 - loss: 6.4754 - val_loss: 6.4713\n",
      "Epoch: 49/50 - loss: 6.4740 - val_loss: 6.4651\n",
      "Epoch: 50/50 - loss: 6.4726 - val_loss: 6.4232\n",
      "CPU times: user 2h 56min 44s, sys: 18min 54s, total: 3h 15min 39s\n",
      "Wall time: 1h 12min 5s\n"
     ]
    }
   ],
   "source": [
    "%%time\n",
    "checkpoint_filename = util.get_checkpoint_filename()\n",
    "\n",
    "print('Train on {} samples, validate on {} samples'.format(len(train_dataset), len(val_dataset)))\n",
    "\n",
    "trainer = Trainer(model, criterion, optimizer, train_loader, val_loader, epochs, \n",
    "                          device, verbose=True, patience=None, no_stop=True)\n",
    "\n",
    "train_losses, val_losses = trainer.fit(checkpoint_filename)"
   ]
  },
  {
   "cell_type": "code",
   "execution_count": 16,
   "metadata": {},
   "outputs": [
    {
     "data": {
      "image/png": "[encoded data removed]",
      "text/plain": [
       "<Figure size 1080x576 with 1 Axes>"
      ]
     },
     "metadata": {
      "needs_background": "light"
     },
     "output_type": "display_data"
    }
   ],
   "source": [
    "util.save_loss(train_losses, val_losses)\n",
    "util.plot([train_losses, val_losses], ['Training', 'Validation'], \n",
    "          'Epochs', 'Error', 'Error analysis', inline=True)"
   ]
  },
  {
   "cell_type": "code",
   "execution_count": 17,
   "metadata": {},
   "outputs": [
    {
     "name": "stdout",
     "output_type": "stream",
     "text": [
      "=> Loaded checkpoint chirps_4_20191012-043502.pth.tar (best epoch: 24, validation error: 6.4080)\n"
     ]
    }
   ],
   "source": [
    "model,_, best_epoch, val_loss = trainer.load_checkpoint(checkpoint_filename)"
   ]
  },
  {
   "cell_type": "markdown",
   "metadata": {},
   "source": [
    "Evaluating the model"
   ]
  },
  {
   "cell_type": "code",
   "execution_count": 18,
   "metadata": {},
   "outputs": [
    {
     "name": "stdout",
     "output_type": "stream",
     "text": [
      "ConvLSTM RMSELoss: 6.3794\n"
     ]
    }
   ],
   "source": [
    "evaluator = Evaluator(model, criterion, test_loader, device)\n",
    "test_loss = evaluator.eval()\n",
    "loss_type = type(criterion).__name__\n",
    "print(f'ConvLSTM {loss_type}: {test_loss:.4f}')"
   ]
  },
  {
   "cell_type": "code",
   "execution_count": 19,
   "metadata": {},
   "outputs": [],
   "source": [
    "if (torch.cuda.is_available()):\n",
    "    torch.cuda.empty_cache()"
   ]
  },
  {
   "cell_type": "markdown",
   "metadata": {},
   "source": [
    "Notification via email"
   ]
  },
  {
   "cell_type": "code",
   "execution_count": 21,
   "metadata": {},
   "outputs": [],
   "source": [
    "model_info = {'Jupyter': 'yes',\n",
    "              'best_epoch': best_epoch,\n",
    "              'val_error': val_loss,\n",
    "              'test_error': test_loss,\n",
    "              'loss_type': loss_type,\n",
    "              'step': step,\n",
    "              'layer': layer_size,\n",
    "              'kernel_size': kernel_size,\n",
    "              'filter': hidden_dim,\n",
    "              'dropout_rate': dropout_rate,\n",
    "              'learning_rate': lr,\n",
    "              'dataset': dataset,\n",
    "              'hostname': platform.node()}"
   ]
  },
  {
   "cell_type": "code",
   "execution_count": 22,
   "metadata": {},
   "outputs": [
    {
     "name": "stdout",
     "output_type": "stream",
     "text": [
      "timestamp: 4337.240195512772\n",
      "email sent\n"
     ]
    }
   ],
   "source": [
    "util.send_email(model_info)"
   ]
  }
 ],
 "metadata": {
  "kernelspec": {
   "display_name": "pytorch",
   "language": "python",
   "name": "pytorch"
  },
  "language_info": {
   "codemirror_mode": {
    "name": "ipython",
    "version": 3
   },
   "file_extension": ".py",
   "mimetype": "text/x-python",
   "name": "python",
   "nbconvert_exporter": "python",
   "pygments_lexer": "ipython3",
   "version": "3.6.7"
  }
 },
 "nbformat": 4,
 "nbformat_minor": 2
}
